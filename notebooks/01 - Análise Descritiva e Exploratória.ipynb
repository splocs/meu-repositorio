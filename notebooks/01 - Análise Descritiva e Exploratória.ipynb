{
 "cells": [
  {
   "cell_type": "markdown",
   "metadata": {},
   "source": [
    "# ANÁLISE DE DADOS \n",
    "***\n",
    "Nesta atividade, estamos empenhados em explorar e analisar os dados de perfil de clientes para obter insights valiosos. Utilizaremos duas abordagens fundamentais: análise descritiva e análise exploratória de dados.\n",
    "\n",
    "<img src=\"../doc_img/fig_analise_dados.png\" width=\"300\"/>\n",
    "\n",
    "<input type=\"checkbox\" checked disabled> **Análise Descritiva:** É a forma mais básica de análise, que busca resumir e descrever os dados disponíveis. Ela envolve a utilização de medidas estatísticas como média, mediana, moda, desvio padrão e histogramas para entender as características e padrões dos dados.\n",
    "\n",
    "<input type=\"checkbox\" checked disabled> **Análise Exploratória:** Visa explorar os dados de forma mais aprofundada, identificando padrões, relações e tendências ocultas. Isso pode ser feito através de técnicas como gráficos, análise de correlação, clusterização e análise de componentes principais."
   ]
  },
  {
   "cell_type": "markdown",
   "metadata": {},
   "source": [
    "### Importando bibliotecas "
   ]
  },
  {
   "cell_type": "code",
   "execution_count": 4,
   "metadata": {},
   "outputs": [],
   "source": [
    "import pandas as pd \n",
    "import matplotlib.pyplot as plt\n",
    "import seaborn as sns"
   ]
  },
  {
   "cell_type": "markdown",
   "metadata": {},
   "source": [
    "### Carregando o Conjunto de Dados"
   ]
  },
  {
   "cell_type": "code",
   "execution_count": 31,
   "metadata": {
    "scrolled": false
   },
   "outputs": [],
   "source": [
    "# Criando uma variável com o caminho do dataset\n",
    "diretorio_arquivo = r'../dataset/perfil_clientes.csv'\n",
    "\n",
    "\n",
    "# Realizando leitura do arquivo CSV\n",
    "df = pd.read_csv(diretorio_arquivo, sep=';') "
   ]
  },
  {
   "cell_type": "markdown",
   "metadata": {},
   "source": [
    "## Análise Descritiva dos Dados\n",
    "***\n",
    "### Explorando a Estrutura do Conjunto de Dados\n",
    "O primeiro passo é verificar a sua estrutura básica. Para isso, contamos o número de linhas e colunas presentes no conjunto. As linhas representam as instâncias ou registros individuais de dados, enquanto as colunas representam as diferentes características ou variáveis do conjunto."
   ]
  },
  {
   "cell_type": "code",
   "execution_count": 24,
   "metadata": {},
   "outputs": [
    {
     "data": {
      "text/plain": [
       "(7999, 11)"
      ]
     },
     "execution_count": 24,
     "metadata": {},
     "output_type": "execute_result"
    }
   ],
   "source": [
    "df.shape"
   ]
  },
  {
   "cell_type": "markdown",
   "metadata": {},
   "source": [
    "Além disso, é importante conhecer os tipos de dados presentes em cada coluna. Os tipos de dados podem ser numéricos, como inteiros ou decimais, categóricos, como categorias ou etiquetas, ou ainda datas e texto. Com essa informação, podemos ter uma noção inicial do conteúdo e das características dos dados que estamos prestes a analisar, preparando-nos para a próxima etapa da análise descritiva."
   ]
  },
  {
   "cell_type": "code",
   "execution_count": 25,
   "metadata": {},
   "outputs": [
    {
     "name": "stdout",
     "output_type": "stream",
     "text": [
      "<class 'pandas.core.frame.DataFrame'>\n",
      "RangeIndex: 7999 entries, 0 to 7998\n",
      "Data columns (total 11 columns):\n",
      " #   Column           Non-Null Count  Dtype  \n",
      "---  ------           --------------  -----  \n",
      " 0   ï»¿idade         7999 non-null   int64  \n",
      " 1   classe_trabalho  7612 non-null   object \n",
      " 2   escolaridade     7999 non-null   object \n",
      " 3   anos_estudo      7999 non-null   int64  \n",
      " 4   estado_civil     7999 non-null   object \n",
      " 5   raca             7999 non-null   object \n",
      " 6   sexo             7999 non-null   object \n",
      " 7   UF               7999 non-null   object \n",
      " 8   regiÃ£o          7999 non-null   object \n",
      " 9   qtde_filhos      7997 non-null   float64\n",
      " 10  salario          7989 non-null   float64\n",
      "dtypes: float64(2), int64(2), object(7)\n",
      "memory usage: 687.5+ KB\n"
     ]
    }
   ],
   "source": [
    "df.info()"
   ]
  },
  {
   "cell_type": "markdown",
   "metadata": {},
   "source": [
    "### Examinando as Primeiras Linhas\n",
    "Ao examinar as primeiras linhas de um conjunto de dados, estamos dando os primeiros passos para entender suas informações. Essas linhas representam as primeiras entradas ou registros do conjunto e nos fornecem uma visão inicial do conteúdo.\n",
    "\n",
    "Examinar as primeiras linhas é uma prática importante para detectar possíveis problemas, como dados ausentes, formatos incorretos ou até mesmo identificar alguma característica especial que mereça atenção durante a análise. "
   ]
  },
  {
   "cell_type": "code",
   "execution_count": 29,
   "metadata": {},
   "outputs": [
    {
     "data": {
      "text/html": [
       "<div>\n",
       "<style scoped>\n",
       "    .dataframe tbody tr th:only-of-type {\n",
       "        vertical-align: middle;\n",
       "    }\n",
       "\n",
       "    .dataframe tbody tr th {\n",
       "        vertical-align: top;\n",
       "    }\n",
       "\n",
       "    .dataframe thead th {\n",
       "        text-align: right;\n",
       "    }\n",
       "</style>\n",
       "<table border=\"1\" class=\"dataframe\">\n",
       "  <thead>\n",
       "    <tr style=\"text-align: right;\">\n",
       "      <th></th>\n",
       "      <th>idade</th>\n",
       "      <th>classe_trabalho</th>\n",
       "      <th>escolaridade</th>\n",
       "      <th>anos_estudo</th>\n",
       "      <th>estado_civil</th>\n",
       "      <th>raca</th>\n",
       "      <th>sexo</th>\n",
       "      <th>UF</th>\n",
       "      <th>região</th>\n",
       "      <th>qtde_filhos</th>\n",
       "      <th>salario</th>\n",
       "    </tr>\n",
       "  </thead>\n",
       "  <tbody>\n",
       "    <tr>\n",
       "      <th>0</th>\n",
       "      <td>39</td>\n",
       "      <td>Servidor Público</td>\n",
       "      <td>Ensino Médio Completo</td>\n",
       "      <td>13</td>\n",
       "      <td>Solteiro</td>\n",
       "      <td>Branco</td>\n",
       "      <td>Masculino</td>\n",
       "      <td>RO</td>\n",
       "      <td>Norte</td>\n",
       "      <td>2.0</td>\n",
       "      <td>4754.0</td>\n",
       "    </tr>\n",
       "    <tr>\n",
       "      <th>1</th>\n",
       "      <td>50</td>\n",
       "      <td>Autônomo</td>\n",
       "      <td>Superior Incompleto</td>\n",
       "      <td>13</td>\n",
       "      <td>Casado</td>\n",
       "      <td>Branco</td>\n",
       "      <td>Masculino</td>\n",
       "      <td>AC</td>\n",
       "      <td>Norte</td>\n",
       "      <td>1.0</td>\n",
       "      <td>3923.0</td>\n",
       "    </tr>\n",
       "    <tr>\n",
       "      <th>2</th>\n",
       "      <td>38</td>\n",
       "      <td>Funcionário Setor Privado</td>\n",
       "      <td>Ensino Médio Incompleto</td>\n",
       "      <td>9</td>\n",
       "      <td>Divorciado</td>\n",
       "      <td>Branco</td>\n",
       "      <td>Masculino</td>\n",
       "      <td>AM</td>\n",
       "      <td>Norte</td>\n",
       "      <td>0.0</td>\n",
       "      <td>1100.0</td>\n",
       "    </tr>\n",
       "    <tr>\n",
       "      <th>3</th>\n",
       "      <td>53</td>\n",
       "      <td>Funcionário Setor Privado</td>\n",
       "      <td>Ensino Médio Incompleto</td>\n",
       "      <td>7</td>\n",
       "      <td>Casado</td>\n",
       "      <td>Negro</td>\n",
       "      <td>Masculino</td>\n",
       "      <td>RR</td>\n",
       "      <td>Norte</td>\n",
       "      <td>1.0</td>\n",
       "      <td>1100.0</td>\n",
       "    </tr>\n",
       "    <tr>\n",
       "      <th>4</th>\n",
       "      <td>28</td>\n",
       "      <td>Funcionário Setor Privado</td>\n",
       "      <td>Ensino Médio Completo</td>\n",
       "      <td>13</td>\n",
       "      <td>Casado</td>\n",
       "      <td>Negro</td>\n",
       "      <td>Feminino</td>\n",
       "      <td>PA</td>\n",
       "      <td>Norte</td>\n",
       "      <td>0.0</td>\n",
       "      <td>3430.0</td>\n",
       "    </tr>\n",
       "  </tbody>\n",
       "</table>\n",
       "</div>"
      ],
      "text/plain": [
       "   idade            classe_trabalho             escolaridade  anos_estudo  \\\n",
       "0     39           Servidor Público    Ensino Médio Completo           13   \n",
       "1     50                   Autônomo      Superior Incompleto           13   \n",
       "2     38  Funcionário Setor Privado  Ensino Médio Incompleto            9   \n",
       "3     53  Funcionário Setor Privado  Ensino Médio Incompleto            7   \n",
       "4     28  Funcionário Setor Privado    Ensino Médio Completo           13   \n",
       "\n",
       "  estado_civil    raca       sexo  UF região  qtde_filhos  salario  \n",
       "0     Solteiro  Branco  Masculino  RO  Norte          2.0   4754.0  \n",
       "1       Casado  Branco  Masculino  AC  Norte          1.0   3923.0  \n",
       "2   Divorciado  Branco  Masculino  AM  Norte          0.0   1100.0  \n",
       "3       Casado   Negro  Masculino  RR  Norte          1.0   1100.0  \n",
       "4       Casado   Negro   Feminino  PA  Norte          0.0   3430.0  "
      ]
     },
     "execution_count": 29,
     "metadata": {},
     "output_type": "execute_result"
    }
   ],
   "source": [
    "df.head()"
   ]
  },
  {
   "cell_type": "code",
   "execution_count": 27,
   "metadata": {},
   "outputs": [
    {
     "data": {
      "text/html": [
       "<div>\n",
       "<style scoped>\n",
       "    .dataframe tbody tr th:only-of-type {\n",
       "        vertical-align: middle;\n",
       "    }\n",
       "\n",
       "    .dataframe tbody tr th {\n",
       "        vertical-align: top;\n",
       "    }\n",
       "\n",
       "    .dataframe thead th {\n",
       "        text-align: right;\n",
       "    }\n",
       "</style>\n",
       "<table border=\"1\" class=\"dataframe\">\n",
       "  <thead>\n",
       "    <tr style=\"text-align: right;\">\n",
       "      <th></th>\n",
       "      <th>ï»¿idade</th>\n",
       "      <th>classe_trabalho</th>\n",
       "      <th>escolaridade</th>\n",
       "      <th>anos_estudo</th>\n",
       "      <th>estado_civil</th>\n",
       "      <th>raca</th>\n",
       "      <th>sexo</th>\n",
       "      <th>UF</th>\n",
       "      <th>regiÃ£o</th>\n",
       "      <th>qtde_filhos</th>\n",
       "      <th>salario</th>\n",
       "    </tr>\n",
       "  </thead>\n",
       "  <tbody>\n",
       "    <tr>\n",
       "      <th>7994</th>\n",
       "      <td>23</td>\n",
       "      <td>FuncionÃ¡rio Setor Privado</td>\n",
       "      <td>Ensino MÃ©dio Completo</td>\n",
       "      <td>10</td>\n",
       "      <td>Casado</td>\n",
       "      <td>Negro</td>\n",
       "      <td>Masculino</td>\n",
       "      <td>AL</td>\n",
       "      <td>Nordeste</td>\n",
       "      <td>3.0</td>\n",
       "      <td>2856.0</td>\n",
       "    </tr>\n",
       "    <tr>\n",
       "      <th>7995</th>\n",
       "      <td>19</td>\n",
       "      <td>FuncionÃ¡rio Setor Privado</td>\n",
       "      <td>Ensino MÃ©dio Incompleto</td>\n",
       "      <td>9</td>\n",
       "      <td>Solteiro</td>\n",
       "      <td>Branco</td>\n",
       "      <td>Feminino</td>\n",
       "      <td>SE</td>\n",
       "      <td>Nordeste</td>\n",
       "      <td>1.0</td>\n",
       "      <td>1100.0</td>\n",
       "    </tr>\n",
       "    <tr>\n",
       "      <th>7996</th>\n",
       "      <td>44</td>\n",
       "      <td>NaN</td>\n",
       "      <td>Ensino MÃ©dio Completo</td>\n",
       "      <td>10</td>\n",
       "      <td>Casado</td>\n",
       "      <td>Branco</td>\n",
       "      <td>Masculino</td>\n",
       "      <td>BA</td>\n",
       "      <td>Nordeste</td>\n",
       "      <td>0.0</td>\n",
       "      <td>3729.0</td>\n",
       "    </tr>\n",
       "    <tr>\n",
       "      <th>7997</th>\n",
       "      <td>20</td>\n",
       "      <td>FuncionÃ¡rio Setor Privado</td>\n",
       "      <td>Ensino MÃ©dio Incompleto</td>\n",
       "      <td>9</td>\n",
       "      <td>Solteiro</td>\n",
       "      <td>Negro</td>\n",
       "      <td>Masculino</td>\n",
       "      <td>MG</td>\n",
       "      <td>Sudeste</td>\n",
       "      <td>0.0</td>\n",
       "      <td>1100.0</td>\n",
       "    </tr>\n",
       "    <tr>\n",
       "      <th>7998</th>\n",
       "      <td>41</td>\n",
       "      <td>FuncionÃ¡rio Setor Privado</td>\n",
       "      <td>Ensino MÃ©dio Completo</td>\n",
       "      <td>13</td>\n",
       "      <td>Casado</td>\n",
       "      <td>Branco</td>\n",
       "      <td>Masculino</td>\n",
       "      <td>AP</td>\n",
       "      <td>Norte</td>\n",
       "      <td>1.0</td>\n",
       "      <td>2579.0</td>\n",
       "    </tr>\n",
       "  </tbody>\n",
       "</table>\n",
       "</div>"
      ],
      "text/plain": [
       "      ï»¿idade             classe_trabalho              escolaridade  \\\n",
       "7994        23  FuncionÃ¡rio Setor Privado    Ensino MÃ©dio Completo   \n",
       "7995        19  FuncionÃ¡rio Setor Privado  Ensino MÃ©dio Incompleto   \n",
       "7996        44                         NaN    Ensino MÃ©dio Completo   \n",
       "7997        20  FuncionÃ¡rio Setor Privado  Ensino MÃ©dio Incompleto   \n",
       "7998        41  FuncionÃ¡rio Setor Privado    Ensino MÃ©dio Completo   \n",
       "\n",
       "      anos_estudo estado_civil    raca       sexo  UF   regiÃ£o  qtde_filhos  \\\n",
       "7994           10       Casado   Negro  Masculino  AL  Nordeste          3.0   \n",
       "7995            9     Solteiro  Branco   Feminino  SE  Nordeste          1.0   \n",
       "7996           10       Casado  Branco  Masculino  BA  Nordeste          0.0   \n",
       "7997            9     Solteiro   Negro  Masculino  MG   Sudeste          0.0   \n",
       "7998           13       Casado  Branco  Masculino  AP     Norte          1.0   \n",
       "\n",
       "      salario  \n",
       "7994   2856.0  \n",
       "7995   1100.0  \n",
       "7996   3729.0  \n",
       "7997   1100.0  \n",
       "7998   2579.0  "
      ]
     },
     "execution_count": 27,
     "metadata": {},
     "output_type": "execute_result"
    }
   ],
   "source": [
    "df.tail()"
   ]
  },
  {
   "cell_type": "markdown",
   "metadata": {},
   "source": [
    "### Explorando Estatísticas Descritivas\n",
    "A etapa de explorar estatísticas descritivas é essencial para entender a essência do conjunto de dados de perfil de clientes. Nessa fase, nosso objetivo é resumir e analisar as características numéricas dos atributos presentes no conjunto.\n",
    "\n",
    "Começaremos calculando medidas resumo, como média, mediana, desvio padrão, mínimo e máximo, para cada atributo numérico. \n",
    "\n",
    "<input type=\"checkbox\" checked disabled>  A **média** nos dará uma visão geral dos valores típicos de cada variável.\n",
    "\n",
    "<input type=\"checkbox\" checked disabled> A **mediana** nos mostrará a tendência central, menos influenciada por outliers. \n",
    "\n",
    "<input type=\"checkbox\" checked disabled> O **desvio padrão** nos indicará a dispersão dos dados em torno da média, fornecendo insights sobre a variabilidade dos atributos."
   ]
  },
  {
   "cell_type": "code",
   "execution_count": 19,
   "metadata": {},
   "outputs": [
    {
     "data": {
      "text/html": [
       "<div>\n",
       "<style scoped>\n",
       "    .dataframe tbody tr th:only-of-type {\n",
       "        vertical-align: middle;\n",
       "    }\n",
       "\n",
       "    .dataframe tbody tr th {\n",
       "        vertical-align: top;\n",
       "    }\n",
       "\n",
       "    .dataframe thead th {\n",
       "        text-align: right;\n",
       "    }\n",
       "</style>\n",
       "<table border=\"1\" class=\"dataframe\">\n",
       "  <thead>\n",
       "    <tr style=\"text-align: right;\">\n",
       "      <th></th>\n",
       "      <th>Quantidade unitária</th>\n",
       "      <th>Valor do produto</th>\n",
       "      <th>Valor da venda</th>\n",
       "    </tr>\n",
       "  </thead>\n",
       "  <tbody>\n",
       "    <tr>\n",
       "      <th>count</th>\n",
       "      <td>1000.000000</td>\n",
       "      <td>993.000000</td>\n",
       "      <td>987.000000</td>\n",
       "    </tr>\n",
       "    <tr>\n",
       "      <th>mean</th>\n",
       "      <td>5.681000</td>\n",
       "      <td>53.927130</td>\n",
       "      <td>307.338085</td>\n",
       "    </tr>\n",
       "    <tr>\n",
       "      <th>std</th>\n",
       "      <td>2.859618</td>\n",
       "      <td>26.141205</td>\n",
       "      <td>231.089478</td>\n",
       "    </tr>\n",
       "    <tr>\n",
       "      <th>min</th>\n",
       "      <td>1.000000</td>\n",
       "      <td>10.040000</td>\n",
       "      <td>11.270000</td>\n",
       "    </tr>\n",
       "    <tr>\n",
       "      <th>25%</th>\n",
       "      <td>3.000000</td>\n",
       "      <td>31.880000</td>\n",
       "      <td>116.840000</td>\n",
       "    </tr>\n",
       "    <tr>\n",
       "      <th>50%</th>\n",
       "      <td>6.000000</td>\n",
       "      <td>53.120000</td>\n",
       "      <td>245.560000</td>\n",
       "    </tr>\n",
       "    <tr>\n",
       "      <th>75%</th>\n",
       "      <td>8.000000</td>\n",
       "      <td>77.070000</td>\n",
       "      <td>454.320000</td>\n",
       "    </tr>\n",
       "    <tr>\n",
       "      <th>max</th>\n",
       "      <td>10.000000</td>\n",
       "      <td>99.930000</td>\n",
       "      <td>980.700000</td>\n",
       "    </tr>\n",
       "  </tbody>\n",
       "</table>\n",
       "</div>"
      ],
      "text/plain": [
       "       Quantidade unitária  Valor do produto  Valor da venda\n",
       "count          1000.000000        993.000000      987.000000\n",
       "mean              5.681000         53.927130      307.338085\n",
       "std               2.859618         26.141205      231.089478\n",
       "min               1.000000         10.040000       11.270000\n",
       "25%               3.000000         31.880000      116.840000\n",
       "50%               6.000000         53.120000      245.560000\n",
       "75%               8.000000         77.070000      454.320000\n",
       "max              10.000000         99.930000      980.700000"
      ]
     },
     "execution_count": 19,
     "metadata": {},
     "output_type": "execute_result"
    }
   ],
   "source": [
    "df.describe()"
   ]
  },
  {
   "cell_type": "markdown",
   "metadata": {},
   "source": [
    "### Visualização dos Dados com Transpose"
   ]
  },
  {
   "cell_type": "code",
   "execution_count": 20,
   "metadata": {},
   "outputs": [
    {
     "data": {
      "text/html": [
       "<div>\n",
       "<style scoped>\n",
       "    .dataframe tbody tr th:only-of-type {\n",
       "        vertical-align: middle;\n",
       "    }\n",
       "\n",
       "    .dataframe tbody tr th {\n",
       "        vertical-align: top;\n",
       "    }\n",
       "\n",
       "    .dataframe thead th {\n",
       "        text-align: right;\n",
       "    }\n",
       "</style>\n",
       "<table border=\"1\" class=\"dataframe\">\n",
       "  <thead>\n",
       "    <tr style=\"text-align: right;\">\n",
       "      <th></th>\n",
       "      <th>count</th>\n",
       "      <th>mean</th>\n",
       "      <th>std</th>\n",
       "      <th>min</th>\n",
       "      <th>25%</th>\n",
       "      <th>50%</th>\n",
       "      <th>75%</th>\n",
       "      <th>max</th>\n",
       "    </tr>\n",
       "  </thead>\n",
       "  <tbody>\n",
       "    <tr>\n",
       "      <th>Quantidade unitária</th>\n",
       "      <td>1000.0</td>\n",
       "      <td>5.68</td>\n",
       "      <td>2.86</td>\n",
       "      <td>1.00</td>\n",
       "      <td>3.00</td>\n",
       "      <td>6.00</td>\n",
       "      <td>8.00</td>\n",
       "      <td>10.00</td>\n",
       "    </tr>\n",
       "    <tr>\n",
       "      <th>Valor do produto</th>\n",
       "      <td>993.0</td>\n",
       "      <td>53.93</td>\n",
       "      <td>26.14</td>\n",
       "      <td>10.04</td>\n",
       "      <td>31.88</td>\n",
       "      <td>53.12</td>\n",
       "      <td>77.07</td>\n",
       "      <td>99.93</td>\n",
       "    </tr>\n",
       "    <tr>\n",
       "      <th>Valor da venda</th>\n",
       "      <td>987.0</td>\n",
       "      <td>307.34</td>\n",
       "      <td>231.09</td>\n",
       "      <td>11.27</td>\n",
       "      <td>116.84</td>\n",
       "      <td>245.56</td>\n",
       "      <td>454.32</td>\n",
       "      <td>980.70</td>\n",
       "    </tr>\n",
       "  </tbody>\n",
       "</table>\n",
       "</div>"
      ],
      "text/plain": [
       "                      count    mean     std    min     25%     50%     75%  \\\n",
       "Quantidade unitária  1000.0    5.68    2.86   1.00    3.00    6.00    8.00   \n",
       "Valor do produto      993.0   53.93   26.14  10.04   31.88   53.12   77.07   \n",
       "Valor da venda        987.0  307.34  231.09  11.27  116.84  245.56  454.32   \n",
       "\n",
       "                        max  \n",
       "Quantidade unitária   10.00  \n",
       "Valor do produto      99.93  \n",
       "Valor da venda       980.70  "
      ]
     },
     "execution_count": 20,
     "metadata": {},
     "output_type": "execute_result"
    }
   ],
   "source": [
    "round(df.describe().transpose(),2)"
   ]
  },
  {
   "cell_type": "markdown",
   "metadata": {},
   "source": [
    "### Explorando Variáveis Categóricas\n",
    "Para analisar variáveis categóricas, você pode realizar várias tarefas para entender as distribuições de categorias.\n",
    "\n",
    "<input type=\"checkbox\" checked disabled> **Contagem de Valores Únicos** permitirá entender a distribuição de cada categoria e identificar as mais comuns.\n",
    "\n",
    "<input type=\"checkbox\" checked disabled> **Visualização de Frequência** vai proporcionará uma visão mais clara das proporções das categorias e facilitará a identificação das mais e menos frequentes.\n",
    "\n",
    "<input type=\"checkbox\" checked disabled> **Tabela Cruzada** para analisar a relação entre duas variáveis categóricas. Isso permitirá entender como as categorias se relacionam entre si e identificar possíveis associações.\n",
    "***"
   ]
  },
  {
   "cell_type": "markdown",
   "metadata": {},
   "source": [
    "### Contagem de Valores Únicos"
   ]
  },
  {
   "cell_type": "code",
   "execution_count": 21,
   "metadata": {},
   "outputs": [
    {
     "ename": "KeyError",
     "evalue": "'estado_civil'",
     "output_type": "error",
     "traceback": [
      "\u001b[1;31m---------------------------------------------------------------------------\u001b[0m",
      "\u001b[1;31mKeyError\u001b[0m                                  Traceback (most recent call last)",
      "File \u001b[1;32mD:\\maquinas_virtuais\\MODML\\Lib\\site-packages\\pandas\\core\\indexes\\base.py:3805\u001b[0m, in \u001b[0;36mIndex.get_loc\u001b[1;34m(self, key)\u001b[0m\n\u001b[0;32m   3804\u001b[0m \u001b[38;5;28;01mtry\u001b[39;00m:\n\u001b[1;32m-> 3805\u001b[0m     \u001b[38;5;28;01mreturn\u001b[39;00m \u001b[38;5;28;43mself\u001b[39;49m\u001b[38;5;241;43m.\u001b[39;49m\u001b[43m_engine\u001b[49m\u001b[38;5;241;43m.\u001b[39;49m\u001b[43mget_loc\u001b[49m\u001b[43m(\u001b[49m\u001b[43mcasted_key\u001b[49m\u001b[43m)\u001b[49m\n\u001b[0;32m   3806\u001b[0m \u001b[38;5;28;01mexcept\u001b[39;00m \u001b[38;5;167;01mKeyError\u001b[39;00m \u001b[38;5;28;01mas\u001b[39;00m err:\n",
      "File \u001b[1;32mindex.pyx:167\u001b[0m, in \u001b[0;36mpandas._libs.index.IndexEngine.get_loc\u001b[1;34m()\u001b[0m\n",
      "File \u001b[1;32mindex.pyx:196\u001b[0m, in \u001b[0;36mpandas._libs.index.IndexEngine.get_loc\u001b[1;34m()\u001b[0m\n",
      "File \u001b[1;32mpandas\\\\_libs\\\\hashtable_class_helper.pxi:7081\u001b[0m, in \u001b[0;36mpandas._libs.hashtable.PyObjectHashTable.get_item\u001b[1;34m()\u001b[0m\n",
      "File \u001b[1;32mpandas\\\\_libs\\\\hashtable_class_helper.pxi:7089\u001b[0m, in \u001b[0;36mpandas._libs.hashtable.PyObjectHashTable.get_item\u001b[1;34m()\u001b[0m\n",
      "\u001b[1;31mKeyError\u001b[0m: 'estado_civil'",
      "\nThe above exception was the direct cause of the following exception:\n",
      "\u001b[1;31mKeyError\u001b[0m                                  Traceback (most recent call last)",
      "Cell \u001b[1;32mIn[21], line 1\u001b[0m\n\u001b[1;32m----> 1\u001b[0m contagem_categorias \u001b[38;5;241m=\u001b[39m \u001b[43mdf\u001b[49m\u001b[43m[\u001b[49m\u001b[38;5;124;43m'\u001b[39;49m\u001b[38;5;124;43mestado_civil\u001b[39;49m\u001b[38;5;124;43m'\u001b[39;49m\u001b[43m]\u001b[49m\u001b[38;5;241m.\u001b[39mvalue_counts()\n\u001b[0;32m      2\u001b[0m contagem_categorias\n",
      "File \u001b[1;32mD:\\maquinas_virtuais\\MODML\\Lib\\site-packages\\pandas\\core\\frame.py:4090\u001b[0m, in \u001b[0;36mDataFrame.__getitem__\u001b[1;34m(self, key)\u001b[0m\n\u001b[0;32m   4088\u001b[0m \u001b[38;5;28;01mif\u001b[39;00m \u001b[38;5;28mself\u001b[39m\u001b[38;5;241m.\u001b[39mcolumns\u001b[38;5;241m.\u001b[39mnlevels \u001b[38;5;241m>\u001b[39m \u001b[38;5;241m1\u001b[39m:\n\u001b[0;32m   4089\u001b[0m     \u001b[38;5;28;01mreturn\u001b[39;00m \u001b[38;5;28mself\u001b[39m\u001b[38;5;241m.\u001b[39m_getitem_multilevel(key)\n\u001b[1;32m-> 4090\u001b[0m indexer \u001b[38;5;241m=\u001b[39m \u001b[38;5;28;43mself\u001b[39;49m\u001b[38;5;241;43m.\u001b[39;49m\u001b[43mcolumns\u001b[49m\u001b[38;5;241;43m.\u001b[39;49m\u001b[43mget_loc\u001b[49m\u001b[43m(\u001b[49m\u001b[43mkey\u001b[49m\u001b[43m)\u001b[49m\n\u001b[0;32m   4091\u001b[0m \u001b[38;5;28;01mif\u001b[39;00m is_integer(indexer):\n\u001b[0;32m   4092\u001b[0m     indexer \u001b[38;5;241m=\u001b[39m [indexer]\n",
      "File \u001b[1;32mD:\\maquinas_virtuais\\MODML\\Lib\\site-packages\\pandas\\core\\indexes\\base.py:3812\u001b[0m, in \u001b[0;36mIndex.get_loc\u001b[1;34m(self, key)\u001b[0m\n\u001b[0;32m   3807\u001b[0m     \u001b[38;5;28;01mif\u001b[39;00m \u001b[38;5;28misinstance\u001b[39m(casted_key, \u001b[38;5;28mslice\u001b[39m) \u001b[38;5;129;01mor\u001b[39;00m (\n\u001b[0;32m   3808\u001b[0m         \u001b[38;5;28misinstance\u001b[39m(casted_key, abc\u001b[38;5;241m.\u001b[39mIterable)\n\u001b[0;32m   3809\u001b[0m         \u001b[38;5;129;01mand\u001b[39;00m \u001b[38;5;28many\u001b[39m(\u001b[38;5;28misinstance\u001b[39m(x, \u001b[38;5;28mslice\u001b[39m) \u001b[38;5;28;01mfor\u001b[39;00m x \u001b[38;5;129;01min\u001b[39;00m casted_key)\n\u001b[0;32m   3810\u001b[0m     ):\n\u001b[0;32m   3811\u001b[0m         \u001b[38;5;28;01mraise\u001b[39;00m InvalidIndexError(key)\n\u001b[1;32m-> 3812\u001b[0m     \u001b[38;5;28;01mraise\u001b[39;00m \u001b[38;5;167;01mKeyError\u001b[39;00m(key) \u001b[38;5;28;01mfrom\u001b[39;00m \u001b[38;5;21;01merr\u001b[39;00m\n\u001b[0;32m   3813\u001b[0m \u001b[38;5;28;01mexcept\u001b[39;00m \u001b[38;5;167;01mTypeError\u001b[39;00m:\n\u001b[0;32m   3814\u001b[0m     \u001b[38;5;66;03m# If we have a listlike key, _check_indexing_error will raise\u001b[39;00m\n\u001b[0;32m   3815\u001b[0m     \u001b[38;5;66;03m#  InvalidIndexError. Otherwise we fall through and re-raise\u001b[39;00m\n\u001b[0;32m   3816\u001b[0m     \u001b[38;5;66;03m#  the TypeError.\u001b[39;00m\n\u001b[0;32m   3817\u001b[0m     \u001b[38;5;28mself\u001b[39m\u001b[38;5;241m.\u001b[39m_check_indexing_error(key)\n",
      "\u001b[1;31mKeyError\u001b[0m: 'estado_civil'"
     ]
    }
   ],
   "source": [
    "contagem_categorias = df['estado_civil'].value_counts()\n",
    "contagem_categorias"
   ]
  },
  {
   "cell_type": "markdown",
   "metadata": {},
   "source": [
    "### Visualização da Frequência"
   ]
  },
  {
   "cell_type": "code",
   "execution_count": 16,
   "metadata": {},
   "outputs": [
    {
     "data": {
      "text/plain": [
       "<Axes: ylabel='estado_civil'>"
      ]
     },
     "execution_count": 16,
     "metadata": {},
     "output_type": "execute_result"
    },
    {
     "data": {
      "image/png": "[encoded data removed]",
      "text/plain": [
       "<Figure size 640x480 with 1 Axes>"
      ]
     },
     "metadata": {},
     "output_type": "display_data"
    }
   ],
   "source": [
    "contagem_categorias.plot.barh()"
   ]
  },
  {
   "cell_type": "markdown",
   "metadata": {},
   "source": [
    "### Tabela Cruzada "
   ]
  },
  {
   "cell_type": "code",
   "execution_count": 17,
   "metadata": {},
   "outputs": [
    {
     "data": {
      "text/html": [
       "<div>\n",
       "<style scoped>\n",
       "    .dataframe tbody tr th:only-of-type {\n",
       "        vertical-align: middle;\n",
       "    }\n",
       "\n",
       "    .dataframe tbody tr th {\n",
       "        vertical-align: top;\n",
       "    }\n",
       "\n",
       "    .dataframe thead th {\n",
       "        text-align: right;\n",
       "    }\n",
       "</style>\n",
       "<table border=\"1\" class=\"dataframe\">\n",
       "  <thead>\n",
       "    <tr style=\"text-align: right;\">\n",
       "      <th>região</th>\n",
       "      <th>Centro-Oeste</th>\n",
       "      <th>Nordeste</th>\n",
       "      <th>Norte</th>\n",
       "      <th>Sudeste</th>\n",
       "      <th>Sul</th>\n",
       "    </tr>\n",
       "    <tr>\n",
       "      <th>estado_civil</th>\n",
       "      <th></th>\n",
       "      <th></th>\n",
       "      <th></th>\n",
       "      <th></th>\n",
       "      <th></th>\n",
       "    </tr>\n",
       "  </thead>\n",
       "  <tbody>\n",
       "    <tr>\n",
       "      <th>Casado</th>\n",
       "      <td>536</td>\n",
       "      <td>1268</td>\n",
       "      <td>951</td>\n",
       "      <td>522</td>\n",
       "      <td>394</td>\n",
       "    </tr>\n",
       "    <tr>\n",
       "      <th>Divorciado</th>\n",
       "      <td>160</td>\n",
       "      <td>370</td>\n",
       "      <td>282</td>\n",
       "      <td>173</td>\n",
       "      <td>116</td>\n",
       "    </tr>\n",
       "    <tr>\n",
       "      <th>Separado</th>\n",
       "      <td>35</td>\n",
       "      <td>85</td>\n",
       "      <td>68</td>\n",
       "      <td>39</td>\n",
       "      <td>33</td>\n",
       "    </tr>\n",
       "    <tr>\n",
       "      <th>Solteiro</th>\n",
       "      <td>400</td>\n",
       "      <td>838</td>\n",
       "      <td>681</td>\n",
       "      <td>409</td>\n",
       "      <td>302</td>\n",
       "    </tr>\n",
       "    <tr>\n",
       "      <th>União Estável</th>\n",
       "      <td>18</td>\n",
       "      <td>41</td>\n",
       "      <td>28</td>\n",
       "      <td>11</td>\n",
       "      <td>9</td>\n",
       "    </tr>\n",
       "    <tr>\n",
       "      <th>Viúvo</th>\n",
       "      <td>39</td>\n",
       "      <td>64</td>\n",
       "      <td>63</td>\n",
       "      <td>30</td>\n",
       "      <td>34</td>\n",
       "    </tr>\n",
       "  </tbody>\n",
       "</table>\n",
       "</div>"
      ],
      "text/plain": [
       "região         Centro-Oeste  Nordeste  Norte  Sudeste  Sul\n",
       "estado_civil                                              \n",
       "Casado                  536      1268    951      522  394\n",
       "Divorciado              160       370    282      173  116\n",
       "Separado                 35        85     68       39   33\n",
       "Solteiro                400       838    681      409  302\n",
       "União Estável            18        41     28       11    9\n",
       "Viúvo                    39        64     63       30   34"
      ]
     },
     "execution_count": 17,
     "metadata": {},
     "output_type": "execute_result"
    }
   ],
   "source": [
    "# Tabela cruzada com outra variável categórica \"Região\"\n",
    "pd.crosstab(df['estado_civil'], df['região'])"
   ]
  },
  {
   "cell_type": "markdown",
   "metadata": {},
   "source": [
    "### Agregação de Dados"
   ]
  },
  {
   "cell_type": "code",
   "execution_count": 20,
   "metadata": {},
   "outputs": [
    {
     "data": {
      "text/plain": [
       "estado_civil\n",
       "Casado           90\n",
       "Divorciado       81\n",
       "Separado         90\n",
       "Solteiro         90\n",
       "União Estável    77\n",
       "Viúvo            90\n",
       "Name: idade, dtype: int64"
      ]
     },
     "execution_count": 20,
     "metadata": {},
     "output_type": "execute_result"
    }
   ],
   "source": [
    "df.groupby('estado_civil')['idade'].max()"
   ]
  },
  {
   "cell_type": "markdown",
   "metadata": {},
   "source": [
    "## Análise Exploratória dos Dados\n",
    "***\n",
    "Após concluir a análise descritiva dos dados, o próximo passo consiste em aprofundar-se na análise para obter uma compreensão mais detalhada e completa das informações contidas nos dados. Esse aprofundamento permitirá uma exploração mais abrangente dos padrões, tendências e relações ocultas presentes nos dados.\n",
    "\n",
    "Com a análise descritiva como base, agora é possível aplicar técnicas mais avançadas, como análise exploratória, mineração de dados e visualizações interativas. Essas abordagens auxiliarão na identificação de insights valiosos e respostas para perguntas mais específicas relacionadas ao perfil dos clientes."
   ]
  },
  {
   "cell_type": "markdown",
   "metadata": {},
   "source": [
    "### Limpeza de Dados \n",
    "\n",
    "Na análise exploratória de dados, o primeiro passo crucial é identificar e tratar dados ausentes, duplicados ou inconsistentes. Essa etapa envolve a detecção e tratamento de registros inválidos, a imputação de valores faltantes e a aplicação de outras técnicas de limpeza dos dados.\n",
    "\n",
    "Ao lidar com dados ausentes, buscamos preencher as lacunas com valores adequados, a fim de evitar distorções nos resultados. Além disso, identificar e eliminar duplicações é essencial para garantir a integridade e precisão das análises.\n",
    "***"
   ]
  },
  {
   "cell_type": "markdown",
   "metadata": {},
   "source": [
    "### Identificação de Dados Duplicados\n",
    "A etapa de Identificação de Dados Duplicados é essencial para garantir a qualidade e integridade dos dados em nossa análise. Nessa fase, nosso objetivo é identificar registros duplicados presentes no conjunto de dados.\n",
    "\n",
    "Ao detectar e analisar esses dados duplicados, podemos compreender a extensão do problema e tomar medidas adequadas para lidar com eles. A remoção ou tratamento desses registros repetidos é fundamental para evitar distorções nos resultados e garantir a precisão das análises que serão realizadas.\n",
    "\n",
    "Identificar dados duplicados é um passo importante para obter uma visão precisa dos dados e assegurar que nossas conclusões se baseiem em informações confiáveis. Isso nos permitirá conduzir análises mais sólidas e tomar decisões embasadas em dados consistentes, contribuindo para o sucesso de nossos objetivos e estratégias de negócio.\n",
    "***"
   ]
  },
  {
   "cell_type": "code",
   "execution_count": 22,
   "metadata": {},
   "outputs": [
    {
     "data": {
      "text/html": [
       "<div>\n",
       "<style scoped>\n",
       "    .dataframe tbody tr th:only-of-type {\n",
       "        vertical-align: middle;\n",
       "    }\n",
       "\n",
       "    .dataframe tbody tr th {\n",
       "        vertical-align: top;\n",
       "    }\n",
       "\n",
       "    .dataframe thead th {\n",
       "        text-align: right;\n",
       "    }\n",
       "</style>\n",
       "<table border=\"1\" class=\"dataframe\">\n",
       "  <thead>\n",
       "    <tr style=\"text-align: right;\">\n",
       "      <th></th>\n",
       "      <th>idade</th>\n",
       "      <th>classe_trabalho</th>\n",
       "      <th>escolaridade</th>\n",
       "      <th>anos_estudo</th>\n",
       "      <th>estado_civil</th>\n",
       "      <th>raca</th>\n",
       "      <th>sexo</th>\n",
       "      <th>UF</th>\n",
       "      <th>região</th>\n",
       "      <th>qtde_filhos</th>\n",
       "      <th>salario</th>\n",
       "    </tr>\n",
       "  </thead>\n",
       "  <tbody>\n",
       "    <tr>\n",
       "      <th>859</th>\n",
       "      <td>17</td>\n",
       "      <td>Menor Aprendiz</td>\n",
       "      <td>Ensino Médio Incompleto</td>\n",
       "      <td>7</td>\n",
       "      <td>Solteiro</td>\n",
       "      <td>Branco</td>\n",
       "      <td>Masculino</td>\n",
       "      <td>RR</td>\n",
       "      <td>Norte</td>\n",
       "      <td>0.0</td>\n",
       "      <td>1100.0</td>\n",
       "    </tr>\n",
       "    <tr>\n",
       "      <th>1369</th>\n",
       "      <td>54</td>\n",
       "      <td>Funcionário Setor Privado</td>\n",
       "      <td>Ensino Médio Incompleto</td>\n",
       "      <td>9</td>\n",
       "      <td>Casado</td>\n",
       "      <td>Branco</td>\n",
       "      <td>Masculino</td>\n",
       "      <td>RO</td>\n",
       "      <td>Norte</td>\n",
       "      <td>1.0</td>\n",
       "      <td>1100.0</td>\n",
       "    </tr>\n",
       "    <tr>\n",
       "      <th>1711</th>\n",
       "      <td>38</td>\n",
       "      <td>Funcionário Setor Privado</td>\n",
       "      <td>Ensino Médio Incompleto</td>\n",
       "      <td>9</td>\n",
       "      <td>Casado</td>\n",
       "      <td>Branco</td>\n",
       "      <td>Masculino</td>\n",
       "      <td>RJ</td>\n",
       "      <td>Sudeste</td>\n",
       "      <td>5.0</td>\n",
       "      <td>1100.0</td>\n",
       "    </tr>\n",
       "    <tr>\n",
       "      <th>2196</th>\n",
       "      <td>31</td>\n",
       "      <td>Funcionário Setor Privado</td>\n",
       "      <td>Ensino Médio Incompleto</td>\n",
       "      <td>9</td>\n",
       "      <td>Separado</td>\n",
       "      <td>Branco</td>\n",
       "      <td>Feminino</td>\n",
       "      <td>ES</td>\n",
       "      <td>Sudeste</td>\n",
       "      <td>4.0</td>\n",
       "      <td>1100.0</td>\n",
       "    </tr>\n",
       "    <tr>\n",
       "      <th>2252</th>\n",
       "      <td>25</td>\n",
       "      <td>Funcionário Setor Privado</td>\n",
       "      <td>Ensino Médio Incompleto</td>\n",
       "      <td>9</td>\n",
       "      <td>Solteiro</td>\n",
       "      <td>Branco</td>\n",
       "      <td>Masculino</td>\n",
       "      <td>SP</td>\n",
       "      <td>Sudeste</td>\n",
       "      <td>2.0</td>\n",
       "      <td>1100.0</td>\n",
       "    </tr>\n",
       "    <tr>\n",
       "      <th>...</th>\n",
       "      <td>...</td>\n",
       "      <td>...</td>\n",
       "      <td>...</td>\n",
       "      <td>...</td>\n",
       "      <td>...</td>\n",
       "      <td>...</td>\n",
       "      <td>...</td>\n",
       "      <td>...</td>\n",
       "      <td>...</td>\n",
       "      <td>...</td>\n",
       "      <td>...</td>\n",
       "    </tr>\n",
       "    <tr>\n",
       "      <th>7822</th>\n",
       "      <td>23</td>\n",
       "      <td>Funcionário Setor Privado</td>\n",
       "      <td>Ensino Médio Incompleto</td>\n",
       "      <td>9</td>\n",
       "      <td>Solteiro</td>\n",
       "      <td>Branco</td>\n",
       "      <td>Masculino</td>\n",
       "      <td>RR</td>\n",
       "      <td>Norte</td>\n",
       "      <td>1.0</td>\n",
       "      <td>1100.0</td>\n",
       "    </tr>\n",
       "    <tr>\n",
       "      <th>7853</th>\n",
       "      <td>36</td>\n",
       "      <td>Funcionário Setor Privado</td>\n",
       "      <td>Ensino Médio Incompleto</td>\n",
       "      <td>9</td>\n",
       "      <td>Casado</td>\n",
       "      <td>Branco</td>\n",
       "      <td>Masculino</td>\n",
       "      <td>MA</td>\n",
       "      <td>Nordeste</td>\n",
       "      <td>2.0</td>\n",
       "      <td>1100.0</td>\n",
       "    </tr>\n",
       "    <tr>\n",
       "      <th>7905</th>\n",
       "      <td>28</td>\n",
       "      <td>Funcionário Setor Privado</td>\n",
       "      <td>Ensino Médio Incompleto</td>\n",
       "      <td>9</td>\n",
       "      <td>Solteiro</td>\n",
       "      <td>Branco</td>\n",
       "      <td>Masculino</td>\n",
       "      <td>AP</td>\n",
       "      <td>Norte</td>\n",
       "      <td>4.0</td>\n",
       "      <td>1100.0</td>\n",
       "    </tr>\n",
       "    <tr>\n",
       "      <th>7910</th>\n",
       "      <td>29</td>\n",
       "      <td>Funcionário Setor Privado</td>\n",
       "      <td>Ensino Médio Incompleto</td>\n",
       "      <td>9</td>\n",
       "      <td>Casado</td>\n",
       "      <td>Branco</td>\n",
       "      <td>Masculino</td>\n",
       "      <td>RN</td>\n",
       "      <td>Nordeste</td>\n",
       "      <td>4.0</td>\n",
       "      <td>1100.0</td>\n",
       "    </tr>\n",
       "    <tr>\n",
       "      <th>7995</th>\n",
       "      <td>19</td>\n",
       "      <td>Funcionário Setor Privado</td>\n",
       "      <td>Ensino Médio Incompleto</td>\n",
       "      <td>9</td>\n",
       "      <td>Solteiro</td>\n",
       "      <td>Branco</td>\n",
       "      <td>Feminino</td>\n",
       "      <td>SE</td>\n",
       "      <td>Nordeste</td>\n",
       "      <td>1.0</td>\n",
       "      <td>1100.0</td>\n",
       "    </tr>\n",
       "  </tbody>\n",
       "</table>\n",
       "<p>63 rows × 11 columns</p>\n",
       "</div>"
      ],
      "text/plain": [
       "      idade            classe_trabalho             escolaridade  anos_estudo   \n",
       "859      17             Menor Aprendiz  Ensino Médio Incompleto            7  \\\n",
       "1369     54  Funcionário Setor Privado  Ensino Médio Incompleto            9   \n",
       "1711     38  Funcionário Setor Privado  Ensino Médio Incompleto            9   \n",
       "2196     31  Funcionário Setor Privado  Ensino Médio Incompleto            9   \n",
       "2252     25  Funcionário Setor Privado  Ensino Médio Incompleto            9   \n",
       "...     ...                        ...                      ...          ...   \n",
       "7822     23  Funcionário Setor Privado  Ensino Médio Incompleto            9   \n",
       "7853     36  Funcionário Setor Privado  Ensino Médio Incompleto            9   \n",
       "7905     28  Funcionário Setor Privado  Ensino Médio Incompleto            9   \n",
       "7910     29  Funcionário Setor Privado  Ensino Médio Incompleto            9   \n",
       "7995     19  Funcionário Setor Privado  Ensino Médio Incompleto            9   \n",
       "\n",
       "     estado_civil    raca       sexo  UF    região  qtde_filhos  salario  \n",
       "859      Solteiro  Branco  Masculino  RR     Norte          0.0   1100.0  \n",
       "1369       Casado  Branco  Masculino  RO     Norte          1.0   1100.0  \n",
       "1711       Casado  Branco  Masculino  RJ   Sudeste          5.0   1100.0  \n",
       "2196     Separado  Branco   Feminino  ES   Sudeste          4.0   1100.0  \n",
       "2252     Solteiro  Branco  Masculino  SP   Sudeste          2.0   1100.0  \n",
       "...           ...     ...        ...  ..       ...          ...      ...  \n",
       "7822     Solteiro  Branco  Masculino  RR     Norte          1.0   1100.0  \n",
       "7853       Casado  Branco  Masculino  MA  Nordeste          2.0   1100.0  \n",
       "7905     Solteiro  Branco  Masculino  AP     Norte          4.0   1100.0  \n",
       "7910       Casado  Branco  Masculino  RN  Nordeste          4.0   1100.0  \n",
       "7995     Solteiro  Branco   Feminino  SE  Nordeste          1.0   1100.0  \n",
       "\n",
       "[63 rows x 11 columns]"
      ]
     },
     "execution_count": 22,
     "metadata": {},
     "output_type": "execute_result"
    }
   ],
   "source": [
    "df[df.duplicated()]"
   ]
  },
  {
   "cell_type": "markdown",
   "metadata": {},
   "source": [
    "### Remoção de Dados Duplicados"
   ]
  },
  {
   "cell_type": "code",
   "execution_count": 23,
   "metadata": {},
   "outputs": [],
   "source": [
    "df.drop_duplicates(inplace=True)"
   ]
  },
  {
   "cell_type": "markdown",
   "metadata": {},
   "source": [
    "### Verificação de Dados Removidos"
   ]
  },
  {
   "cell_type": "code",
   "execution_count": 24,
   "metadata": {},
   "outputs": [
    {
     "data": {
      "text/plain": [
       "(7936, 11)"
      ]
     },
     "execution_count": 24,
     "metadata": {},
     "output_type": "execute_result"
    }
   ],
   "source": [
    "df.shape"
   ]
  },
  {
   "cell_type": "markdown",
   "metadata": {},
   "source": [
    "### Análise de Dados Ausentes\n",
    "A Análise de Dados Ausentes é uma etapa crucial da exploração dos dados, pois nos permite entender a presença e a extensão de valores ausentes em nosso conjunto de dados. Nessa fase, buscamos identificar quais variáveis possuem dados faltantes e a proporção desses valores em relação ao tamanho total do conjunto.\n",
    "\n",
    "***"
   ]
  },
  {
   "cell_type": "code",
   "execution_count": 25,
   "metadata": {},
   "outputs": [
    {
     "data": {
      "text/plain": [
       "idade                0\n",
       "classe_trabalho    387\n",
       "escolaridade         0\n",
       "anos_estudo          0\n",
       "estado_civil         0\n",
       "raca                 0\n",
       "sexo                 0\n",
       "UF                   0\n",
       "região               0\n",
       "qtde_filhos          2\n",
       "salario             10\n",
       "dtype: int64"
      ]
     },
     "execution_count": 25,
     "metadata": {},
     "output_type": "execute_result"
    }
   ],
   "source": [
    "df.isnull().sum()"
   ]
  },
  {
   "cell_type": "markdown",
   "metadata": {},
   "source": [
    "### Verificação de Dados Ausentes\n",
    "Verificar e visualizar dados ausentes antes de tomar qualquer providência é uma etapa fundamental na análise de dados. A presença de dados ausentes pode ter impacto significativo nos resultados e conclusões obtidas a partir do conjunto de dados.\n",
    "***\n",
    "\n",
    "### Variável: Classe de Trabalho"
   ]
  },
  {
   "cell_type": "code",
   "execution_count": 27,
   "metadata": {},
   "outputs": [
    {
     "data": {
      "text/html": [
       "<div>\n",
       "<style scoped>\n",
       "    .dataframe tbody tr th:only-of-type {\n",
       "        vertical-align: middle;\n",
       "    }\n",
       "\n",
       "    .dataframe tbody tr th {\n",
       "        vertical-align: top;\n",
       "    }\n",
       "\n",
       "    .dataframe thead th {\n",
       "        text-align: right;\n",
       "    }\n",
       "</style>\n",
       "<table border=\"1\" class=\"dataframe\">\n",
       "  <thead>\n",
       "    <tr style=\"text-align: right;\">\n",
       "      <th></th>\n",
       "      <th>idade</th>\n",
       "      <th>classe_trabalho</th>\n",
       "      <th>escolaridade</th>\n",
       "      <th>anos_estudo</th>\n",
       "      <th>estado_civil</th>\n",
       "      <th>raca</th>\n",
       "      <th>sexo</th>\n",
       "      <th>UF</th>\n",
       "      <th>região</th>\n",
       "      <th>qtde_filhos</th>\n",
       "      <th>salario</th>\n",
       "    </tr>\n",
       "  </thead>\n",
       "  <tbody>\n",
       "    <tr>\n",
       "      <th>61</th>\n",
       "      <td>32</td>\n",
       "      <td>NaN</td>\n",
       "      <td>Ensino Fundamental Incompleto</td>\n",
       "      <td>4</td>\n",
       "      <td>União Estável</td>\n",
       "      <td>Branco</td>\n",
       "      <td>Masculino</td>\n",
       "      <td>MA</td>\n",
       "      <td>Nordeste</td>\n",
       "      <td>4.0</td>\n",
       "      <td>1100.0</td>\n",
       "    </tr>\n",
       "    <tr>\n",
       "      <th>69</th>\n",
       "      <td>25</td>\n",
       "      <td>NaN</td>\n",
       "      <td>Ensino Médio Completo</td>\n",
       "      <td>10</td>\n",
       "      <td>Solteiro</td>\n",
       "      <td>Branco</td>\n",
       "      <td>Masculino</td>\n",
       "      <td>BA</td>\n",
       "      <td>Nordeste</td>\n",
       "      <td>3.0</td>\n",
       "      <td>3450.0</td>\n",
       "    </tr>\n",
       "    <tr>\n",
       "      <th>127</th>\n",
       "      <td>35</td>\n",
       "      <td>NaN</td>\n",
       "      <td>Ensino Médio Incompleto</td>\n",
       "      <td>9</td>\n",
       "      <td>Casado</td>\n",
       "      <td>Amarelo</td>\n",
       "      <td>Masculino</td>\n",
       "      <td>PR</td>\n",
       "      <td>Sul</td>\n",
       "      <td>4.0</td>\n",
       "      <td>1100.0</td>\n",
       "    </tr>\n",
       "    <tr>\n",
       "      <th>148</th>\n",
       "      <td>43</td>\n",
       "      <td>NaN</td>\n",
       "      <td>Ensino Médio Completo</td>\n",
       "      <td>10</td>\n",
       "      <td>Divorciado</td>\n",
       "      <td>Branco</td>\n",
       "      <td>Feminino</td>\n",
       "      <td>SE</td>\n",
       "      <td>Nordeste</td>\n",
       "      <td>0.0</td>\n",
       "      <td>2490.0</td>\n",
       "    </tr>\n",
       "    <tr>\n",
       "      <th>153</th>\n",
       "      <td>52</td>\n",
       "      <td>NaN</td>\n",
       "      <td>Ensino Médio Incompleto</td>\n",
       "      <td>9</td>\n",
       "      <td>Divorciado</td>\n",
       "      <td>Branco</td>\n",
       "      <td>Masculino</td>\n",
       "      <td>SP</td>\n",
       "      <td>Sudeste</td>\n",
       "      <td>1.0</td>\n",
       "      <td>1100.0</td>\n",
       "    </tr>\n",
       "    <tr>\n",
       "      <th>...</th>\n",
       "      <td>...</td>\n",
       "      <td>...</td>\n",
       "      <td>...</td>\n",
       "      <td>...</td>\n",
       "      <td>...</td>\n",
       "      <td>...</td>\n",
       "      <td>...</td>\n",
       "      <td>...</td>\n",
       "      <td>...</td>\n",
       "      <td>...</td>\n",
       "      <td>...</td>\n",
       "    </tr>\n",
       "    <tr>\n",
       "      <th>7931</th>\n",
       "      <td>51</td>\n",
       "      <td>NaN</td>\n",
       "      <td>Ensino Médio Completo</td>\n",
       "      <td>10</td>\n",
       "      <td>Divorciado</td>\n",
       "      <td>Branco</td>\n",
       "      <td>Feminino</td>\n",
       "      <td>PA</td>\n",
       "      <td>Norte</td>\n",
       "      <td>2.0</td>\n",
       "      <td>2660.0</td>\n",
       "    </tr>\n",
       "    <tr>\n",
       "      <th>7952</th>\n",
       "      <td>19</td>\n",
       "      <td>NaN</td>\n",
       "      <td>Ensino Médio Completo</td>\n",
       "      <td>10</td>\n",
       "      <td>Solteiro</td>\n",
       "      <td>Branco</td>\n",
       "      <td>Feminino</td>\n",
       "      <td>GO</td>\n",
       "      <td>Centro-Oeste</td>\n",
       "      <td>0.0</td>\n",
       "      <td>2581.0</td>\n",
       "    </tr>\n",
       "    <tr>\n",
       "      <th>7960</th>\n",
       "      <td>30</td>\n",
       "      <td>NaN</td>\n",
       "      <td>Ensino Fundamental Completo</td>\n",
       "      <td>5</td>\n",
       "      <td>Solteiro</td>\n",
       "      <td>Branco</td>\n",
       "      <td>Feminino</td>\n",
       "      <td>TO</td>\n",
       "      <td>Norte</td>\n",
       "      <td>4.0</td>\n",
       "      <td>1100.0</td>\n",
       "    </tr>\n",
       "    <tr>\n",
       "      <th>7988</th>\n",
       "      <td>20</td>\n",
       "      <td>NaN</td>\n",
       "      <td>Ensino Médio Completo</td>\n",
       "      <td>10</td>\n",
       "      <td>Solteiro</td>\n",
       "      <td>Branco</td>\n",
       "      <td>Masculino</td>\n",
       "      <td>MA</td>\n",
       "      <td>Nordeste</td>\n",
       "      <td>2.0</td>\n",
       "      <td>3610.0</td>\n",
       "    </tr>\n",
       "    <tr>\n",
       "      <th>7996</th>\n",
       "      <td>44</td>\n",
       "      <td>NaN</td>\n",
       "      <td>Ensino Médio Completo</td>\n",
       "      <td>10</td>\n",
       "      <td>Casado</td>\n",
       "      <td>Branco</td>\n",
       "      <td>Masculino</td>\n",
       "      <td>BA</td>\n",
       "      <td>Nordeste</td>\n",
       "      <td>0.0</td>\n",
       "      <td>3729.0</td>\n",
       "    </tr>\n",
       "  </tbody>\n",
       "</table>\n",
       "<p>387 rows × 11 columns</p>\n",
       "</div>"
      ],
      "text/plain": [
       "      idade classe_trabalho                   escolaridade  anos_estudo   \n",
       "61       32             NaN  Ensino Fundamental Incompleto            4  \\\n",
       "69       25             NaN          Ensino Médio Completo           10   \n",
       "127      35             NaN        Ensino Médio Incompleto            9   \n",
       "148      43             NaN          Ensino Médio Completo           10   \n",
       "153      52             NaN        Ensino Médio Incompleto            9   \n",
       "...     ...             ...                            ...          ...   \n",
       "7931     51             NaN          Ensino Médio Completo           10   \n",
       "7952     19             NaN          Ensino Médio Completo           10   \n",
       "7960     30             NaN    Ensino Fundamental Completo            5   \n",
       "7988     20             NaN          Ensino Médio Completo           10   \n",
       "7996     44             NaN          Ensino Médio Completo           10   \n",
       "\n",
       "       estado_civil     raca       sexo  UF        região  qtde_filhos   \n",
       "61    União Estável   Branco  Masculino  MA      Nordeste          4.0  \\\n",
       "69         Solteiro   Branco  Masculino  BA      Nordeste          3.0   \n",
       "127          Casado  Amarelo  Masculino  PR           Sul          4.0   \n",
       "148      Divorciado   Branco   Feminino  SE      Nordeste          0.0   \n",
       "153      Divorciado   Branco  Masculino  SP       Sudeste          1.0   \n",
       "...             ...      ...        ...  ..           ...          ...   \n",
       "7931     Divorciado   Branco   Feminino  PA         Norte          2.0   \n",
       "7952       Solteiro   Branco   Feminino  GO  Centro-Oeste          0.0   \n",
       "7960       Solteiro   Branco   Feminino  TO         Norte          4.0   \n",
       "7988       Solteiro   Branco  Masculino  MA      Nordeste          2.0   \n",
       "7996         Casado   Branco  Masculino  BA      Nordeste          0.0   \n",
       "\n",
       "      salario  \n",
       "61     1100.0  \n",
       "69     3450.0  \n",
       "127    1100.0  \n",
       "148    2490.0  \n",
       "153    1100.0  \n",
       "...       ...  \n",
       "7931   2660.0  \n",
       "7952   2581.0  \n",
       "7960   1100.0  \n",
       "7988   3610.0  \n",
       "7996   3729.0  \n",
       "\n",
       "[387 rows x 11 columns]"
      ]
     },
     "execution_count": 27,
     "metadata": {},
     "output_type": "execute_result"
    }
   ],
   "source": [
    "df[df['classe_trabalho'].isna()]"
   ]
  },
  {
   "cell_type": "markdown",
   "metadata": {},
   "source": [
    "### Variável: Quantidade de filhos          "
   ]
  },
  {
   "cell_type": "code",
   "execution_count": 28,
   "metadata": {},
   "outputs": [
    {
     "data": {
      "text/html": [
       "<div>\n",
       "<style scoped>\n",
       "    .dataframe tbody tr th:only-of-type {\n",
       "        vertical-align: middle;\n",
       "    }\n",
       "\n",
       "    .dataframe tbody tr th {\n",
       "        vertical-align: top;\n",
       "    }\n",
       "\n",
       "    .dataframe thead th {\n",
       "        text-align: right;\n",
       "    }\n",
       "</style>\n",
       "<table border=\"1\" class=\"dataframe\">\n",
       "  <thead>\n",
       "    <tr style=\"text-align: right;\">\n",
       "      <th></th>\n",
       "      <th>idade</th>\n",
       "      <th>classe_trabalho</th>\n",
       "      <th>escolaridade</th>\n",
       "      <th>anos_estudo</th>\n",
       "      <th>estado_civil</th>\n",
       "      <th>raca</th>\n",
       "      <th>sexo</th>\n",
       "      <th>UF</th>\n",
       "      <th>região</th>\n",
       "      <th>qtde_filhos</th>\n",
       "      <th>salario</th>\n",
       "    </tr>\n",
       "  </thead>\n",
       "  <tbody>\n",
       "    <tr>\n",
       "      <th>12</th>\n",
       "      <td>23</td>\n",
       "      <td>Funcionário Setor Privado</td>\n",
       "      <td>Pós-Graduado</td>\n",
       "      <td>13</td>\n",
       "      <td>Solteiro</td>\n",
       "      <td>Branco</td>\n",
       "      <td>Feminino</td>\n",
       "      <td>PE</td>\n",
       "      <td>Nordeste</td>\n",
       "      <td>NaN</td>\n",
       "      <td>5316.0</td>\n",
       "    </tr>\n",
       "    <tr>\n",
       "      <th>20</th>\n",
       "      <td>40</td>\n",
       "      <td>Funcionário Setor Privado</td>\n",
       "      <td>Doutorado</td>\n",
       "      <td>16</td>\n",
       "      <td>Casado</td>\n",
       "      <td>Branco</td>\n",
       "      <td>Masculino</td>\n",
       "      <td>PR</td>\n",
       "      <td>Sul</td>\n",
       "      <td>NaN</td>\n",
       "      <td>12535.0</td>\n",
       "    </tr>\n",
       "  </tbody>\n",
       "</table>\n",
       "</div>"
      ],
      "text/plain": [
       "    idade            classe_trabalho  escolaridade  anos_estudo estado_civil   \n",
       "12     23  Funcionário Setor Privado  Pós-Graduado           13     Solteiro  \\\n",
       "20     40  Funcionário Setor Privado     Doutorado           16       Casado   \n",
       "\n",
       "      raca       sexo  UF    região  qtde_filhos  salario  \n",
       "12  Branco   Feminino  PE  Nordeste          NaN   5316.0  \n",
       "20  Branco  Masculino  PR       Sul          NaN  12535.0  "
      ]
     },
     "execution_count": 28,
     "metadata": {},
     "output_type": "execute_result"
    }
   ],
   "source": [
    "df.query('qtde_filhos.isna()')"
   ]
  },
  {
   "cell_type": "markdown",
   "metadata": {},
   "source": [
    "### Variável: Salário"
   ]
  },
  {
   "cell_type": "code",
   "execution_count": 29,
   "metadata": {},
   "outputs": [
    {
     "data": {
      "text/html": [
       "<div>\n",
       "<style scoped>\n",
       "    .dataframe tbody tr th:only-of-type {\n",
       "        vertical-align: middle;\n",
       "    }\n",
       "\n",
       "    .dataframe tbody tr th {\n",
       "        vertical-align: top;\n",
       "    }\n",
       "\n",
       "    .dataframe thead th {\n",
       "        text-align: right;\n",
       "    }\n",
       "</style>\n",
       "<table border=\"1\" class=\"dataframe\">\n",
       "  <thead>\n",
       "    <tr style=\"text-align: right;\">\n",
       "      <th></th>\n",
       "      <th>idade</th>\n",
       "      <th>classe_trabalho</th>\n",
       "      <th>escolaridade</th>\n",
       "      <th>anos_estudo</th>\n",
       "      <th>estado_civil</th>\n",
       "      <th>raca</th>\n",
       "      <th>sexo</th>\n",
       "      <th>UF</th>\n",
       "      <th>região</th>\n",
       "      <th>qtde_filhos</th>\n",
       "      <th>salario</th>\n",
       "    </tr>\n",
       "  </thead>\n",
       "  <tbody>\n",
       "    <tr>\n",
       "      <th>242</th>\n",
       "      <td>20</td>\n",
       "      <td>NaN</td>\n",
       "      <td>Ensino Médio Completo</td>\n",
       "      <td>10</td>\n",
       "      <td>Solteiro</td>\n",
       "      <td>Branco</td>\n",
       "      <td>Masculino</td>\n",
       "      <td>RO</td>\n",
       "      <td>Norte</td>\n",
       "      <td>1.0</td>\n",
       "      <td>NaN</td>\n",
       "    </tr>\n",
       "    <tr>\n",
       "      <th>283</th>\n",
       "      <td>21</td>\n",
       "      <td>Funcionário Setor Privado</td>\n",
       "      <td>Ensino Médio Incompleto</td>\n",
       "      <td>9</td>\n",
       "      <td>Solteiro</td>\n",
       "      <td>Branco</td>\n",
       "      <td>Masculino</td>\n",
       "      <td>SE</td>\n",
       "      <td>Nordeste</td>\n",
       "      <td>2.0</td>\n",
       "      <td>NaN</td>\n",
       "    </tr>\n",
       "    <tr>\n",
       "      <th>358</th>\n",
       "      <td>26</td>\n",
       "      <td>Autônomo</td>\n",
       "      <td>Ensino Fundamental Completo</td>\n",
       "      <td>5</td>\n",
       "      <td>Casado</td>\n",
       "      <td>Branco</td>\n",
       "      <td>Masculino</td>\n",
       "      <td>PI</td>\n",
       "      <td>Nordeste</td>\n",
       "      <td>0.0</td>\n",
       "      <td>NaN</td>\n",
       "    </tr>\n",
       "    <tr>\n",
       "      <th>403</th>\n",
       "      <td>41</td>\n",
       "      <td>Funcionário Setor Privado</td>\n",
       "      <td>Mestrado</td>\n",
       "      <td>14</td>\n",
       "      <td>Casado</td>\n",
       "      <td>Branco</td>\n",
       "      <td>Masculino</td>\n",
       "      <td>RO</td>\n",
       "      <td>Norte</td>\n",
       "      <td>5.0</td>\n",
       "      <td>NaN</td>\n",
       "    </tr>\n",
       "    <tr>\n",
       "      <th>524</th>\n",
       "      <td>26</td>\n",
       "      <td>Funcionário Setor Privado</td>\n",
       "      <td>Ensino Médio Incompleto</td>\n",
       "      <td>9</td>\n",
       "      <td>Solteiro</td>\n",
       "      <td>Branco</td>\n",
       "      <td>Masculino</td>\n",
       "      <td>RJ</td>\n",
       "      <td>Sudeste</td>\n",
       "      <td>1.0</td>\n",
       "      <td>NaN</td>\n",
       "    </tr>\n",
       "    <tr>\n",
       "      <th>597</th>\n",
       "      <td>48</td>\n",
       "      <td>Funcionário Setor Privado</td>\n",
       "      <td>Ensino Médio Incompleto</td>\n",
       "      <td>9</td>\n",
       "      <td>Solteiro</td>\n",
       "      <td>Negro</td>\n",
       "      <td>Feminino</td>\n",
       "      <td>PB</td>\n",
       "      <td>Nordeste</td>\n",
       "      <td>2.0</td>\n",
       "      <td>NaN</td>\n",
       "    </tr>\n",
       "    <tr>\n",
       "      <th>691</th>\n",
       "      <td>19</td>\n",
       "      <td>Funcionário Setor Privado</td>\n",
       "      <td>Ensino Médio Incompleto</td>\n",
       "      <td>9</td>\n",
       "      <td>Solteiro</td>\n",
       "      <td>Branco</td>\n",
       "      <td>Feminino</td>\n",
       "      <td>MT</td>\n",
       "      <td>Centro-Oeste</td>\n",
       "      <td>2.0</td>\n",
       "      <td>NaN</td>\n",
       "    </tr>\n",
       "    <tr>\n",
       "      <th>757</th>\n",
       "      <td>32</td>\n",
       "      <td>Funcionário Setor Privado</td>\n",
       "      <td>Ensino Fundamental Completo</td>\n",
       "      <td>6</td>\n",
       "      <td>Separado</td>\n",
       "      <td>Branco</td>\n",
       "      <td>Feminino</td>\n",
       "      <td>CE</td>\n",
       "      <td>Nordeste</td>\n",
       "      <td>2.0</td>\n",
       "      <td>NaN</td>\n",
       "    </tr>\n",
       "    <tr>\n",
       "      <th>874</th>\n",
       "      <td>27</td>\n",
       "      <td>Funcionário Setor Privado</td>\n",
       "      <td>Ensino Médio Incompleto</td>\n",
       "      <td>9</td>\n",
       "      <td>Casado</td>\n",
       "      <td>Branco</td>\n",
       "      <td>Masculino</td>\n",
       "      <td>RJ</td>\n",
       "      <td>Sudeste</td>\n",
       "      <td>1.0</td>\n",
       "      <td>NaN</td>\n",
       "    </tr>\n",
       "    <tr>\n",
       "      <th>962</th>\n",
       "      <td>34</td>\n",
       "      <td>Funcionário Setor Privado</td>\n",
       "      <td>Ensino Médio Incompleto</td>\n",
       "      <td>9</td>\n",
       "      <td>Casado</td>\n",
       "      <td>Branco</td>\n",
       "      <td>Masculino</td>\n",
       "      <td>GO</td>\n",
       "      <td>Centro-Oeste</td>\n",
       "      <td>1.0</td>\n",
       "      <td>NaN</td>\n",
       "    </tr>\n",
       "  </tbody>\n",
       "</table>\n",
       "</div>"
      ],
      "text/plain": [
       "     idade            classe_trabalho                 escolaridade   \n",
       "242     20                        NaN        Ensino Médio Completo  \\\n",
       "283     21  Funcionário Setor Privado      Ensino Médio Incompleto   \n",
       "358     26                   Autônomo  Ensino Fundamental Completo   \n",
       "403     41  Funcionário Setor Privado                     Mestrado   \n",
       "524     26  Funcionário Setor Privado      Ensino Médio Incompleto   \n",
       "597     48  Funcionário Setor Privado      Ensino Médio Incompleto   \n",
       "691     19  Funcionário Setor Privado      Ensino Médio Incompleto   \n",
       "757     32  Funcionário Setor Privado  Ensino Fundamental Completo   \n",
       "874     27  Funcionário Setor Privado      Ensino Médio Incompleto   \n",
       "962     34  Funcionário Setor Privado      Ensino Médio Incompleto   \n",
       "\n",
       "     anos_estudo estado_civil    raca       sexo  UF        região   \n",
       "242           10     Solteiro  Branco  Masculino  RO         Norte  \\\n",
       "283            9     Solteiro  Branco  Masculino  SE      Nordeste   \n",
       "358            5       Casado  Branco  Masculino  PI      Nordeste   \n",
       "403           14       Casado  Branco  Masculino  RO         Norte   \n",
       "524            9     Solteiro  Branco  Masculino  RJ       Sudeste   \n",
       "597            9     Solteiro   Negro   Feminino  PB      Nordeste   \n",
       "691            9     Solteiro  Branco   Feminino  MT  Centro-Oeste   \n",
       "757            6     Separado  Branco   Feminino  CE      Nordeste   \n",
       "874            9       Casado  Branco  Masculino  RJ       Sudeste   \n",
       "962            9       Casado  Branco  Masculino  GO  Centro-Oeste   \n",
       "\n",
       "     qtde_filhos  salario  \n",
       "242          1.0      NaN  \n",
       "283          2.0      NaN  \n",
       "358          0.0      NaN  \n",
       "403          5.0      NaN  \n",
       "524          1.0      NaN  \n",
       "597          2.0      NaN  \n",
       "691          2.0      NaN  \n",
       "757          2.0      NaN  \n",
       "874          1.0      NaN  \n",
       "962          1.0      NaN  "
      ]
     },
     "execution_count": 29,
     "metadata": {},
     "output_type": "execute_result"
    }
   ],
   "source": [
    "df.query('salario.isna()')"
   ]
  },
  {
   "cell_type": "code",
   "execution_count": 35,
   "metadata": {},
   "outputs": [
    {
     "data": {
      "text/plain": [
       "28.216494845360824"
      ]
     },
     "execution_count": 35,
     "metadata": {},
     "output_type": "execute_result"
    }
   ],
   "source": [
    "df.query('estado_civil ==\"Solteiro\" and UF == \"MG\"')['idade'].mean()"
   ]
  },
  {
   "cell_type": "markdown",
   "metadata": {},
   "source": [
    "### Correção de Dados Ausentes\n",
    "Existem diferentes abordagens para corrigir dados ausentes, dependendo do contexto e da quantidade de dados faltantes. \n",
    "\n",
    "<input type=\"checkbox\" checked disabled> A **imputação** é uma técnica comum, onde os valores ausentes são preenchidos com estimativas ou valores calculados com base em informações existentes no conjunto de dados. Isso ajuda a manter a consistência e completude dos registros.\n",
    "\n",
    "<input type=\"checkbox\" checked disabled> A **exclusão**, é uma técnica que consiste em remover os registros com dados ausentes. No entanto, essa abordagem deve ser aplicada com cautela, garantindo que a exclusão não prejudique a representatividade do conjunto de dados.\n",
    "\n",
    "A correção de dados ausentes é um processo sensível e requer análise cuidadosa. Ao aplicar técnicas adequadas, asseguramos que nossas análises sejam mais precisas e nossas conclusões sejam embasadas em dados confiáveis. \n",
    "***"
   ]
  },
  {
   "cell_type": "markdown",
   "metadata": {},
   "source": [
    "### Correção de Dados Categóricos\n",
    "Existem diversas técnicas que podem ser utilizadas para corrigir dados ausentes em variáveis categóricas. Algumas das técnicas mais comuns são:\n",
    "\n",
    "<input type=\"checkbox\" checked disabled> **Imputação por Moda**: Nessa técnica, os valores ausentes são substituídos pela moda, ou seja, a categoria mais frequente presente na variável categórica. Essa abordagem é útil quando a variável possui poucas categorias e a moda é uma escolha razoável para preencher os valores faltantes.\n",
    "\n",
    "<input type=\"checkbox\" checked disabled> **Imputação por Valor Aleatório**: Nessa técnica, os valores ausentes são preenchidos por uma categoria escolhida aleatoriamente, de acordo com a distribuição de frequências das categorias existentes. Isso ajuda a manter a distribuição das categorias original e a evitar viés na imputação.\n",
    "\n",
    "<input type=\"checkbox\" checked disabled> **Imputação com Base em Outras Variáveis**: Se outras variáveis no conjunto de dados estão relacionadas com a variável categórica que possui valores ausentes, você pode usar essas variáveis para imputar os valores faltantes. Por exemplo, você pode agrupar os dados com base em uma outra variável e calcular a moda dentro de cada grupo para preencher os valores ausentes.\n",
    "\n",
    "***\n",
    "### Correção para a Variável \"Classe de Trabalho\""
   ]
  },
  {
   "cell_type": "code",
   "execution_count": 38,
   "metadata": {},
   "outputs": [],
   "source": [
    "moda = df['classe_trabalho'].mode()[0]\n",
    "df['classe_trabalho'].fillna(moda, inplace=True)"
   ]
  },
  {
   "cell_type": "markdown",
   "metadata": {},
   "source": [
    "### Visualização das Alterações na Variável \"Classe de Trabalho\""
   ]
  },
  {
   "cell_type": "code",
   "execution_count": 39,
   "metadata": {},
   "outputs": [
    {
     "data": {
      "text/html": [
       "<div>\n",
       "<style scoped>\n",
       "    .dataframe tbody tr th:only-of-type {\n",
       "        vertical-align: middle;\n",
       "    }\n",
       "\n",
       "    .dataframe tbody tr th {\n",
       "        vertical-align: top;\n",
       "    }\n",
       "\n",
       "    .dataframe thead th {\n",
       "        text-align: right;\n",
       "    }\n",
       "</style>\n",
       "<table border=\"1\" class=\"dataframe\">\n",
       "  <thead>\n",
       "    <tr style=\"text-align: right;\">\n",
       "      <th></th>\n",
       "      <th>idade</th>\n",
       "      <th>classe_trabalho</th>\n",
       "      <th>escolaridade</th>\n",
       "      <th>anos_estudo</th>\n",
       "      <th>estado_civil</th>\n",
       "      <th>raca</th>\n",
       "      <th>sexo</th>\n",
       "      <th>UF</th>\n",
       "      <th>região</th>\n",
       "      <th>qtde_filhos</th>\n",
       "      <th>salario</th>\n",
       "    </tr>\n",
       "  </thead>\n",
       "  <tbody>\n",
       "    <tr>\n",
       "      <th>61</th>\n",
       "      <td>32</td>\n",
       "      <td>Funcionário Setor Privado</td>\n",
       "      <td>Ensino Fundamental Incompleto</td>\n",
       "      <td>4</td>\n",
       "      <td>União Estável</td>\n",
       "      <td>Branco</td>\n",
       "      <td>Masculino</td>\n",
       "      <td>MA</td>\n",
       "      <td>Nordeste</td>\n",
       "      <td>4.0</td>\n",
       "      <td>1100.0</td>\n",
       "    </tr>\n",
       "    <tr>\n",
       "      <th>69</th>\n",
       "      <td>25</td>\n",
       "      <td>Funcionário Setor Privado</td>\n",
       "      <td>Ensino Médio Completo</td>\n",
       "      <td>10</td>\n",
       "      <td>Solteiro</td>\n",
       "      <td>Branco</td>\n",
       "      <td>Masculino</td>\n",
       "      <td>BA</td>\n",
       "      <td>Nordeste</td>\n",
       "      <td>3.0</td>\n",
       "      <td>3450.0</td>\n",
       "    </tr>\n",
       "  </tbody>\n",
       "</table>\n",
       "</div>"
      ],
      "text/plain": [
       "    idade            classe_trabalho                   escolaridade   \n",
       "61     32  Funcionário Setor Privado  Ensino Fundamental Incompleto  \\\n",
       "69     25  Funcionário Setor Privado          Ensino Médio Completo   \n",
       "\n",
       "    anos_estudo   estado_civil    raca       sexo  UF    região  qtde_filhos   \n",
       "61            4  União Estável  Branco  Masculino  MA  Nordeste          4.0  \\\n",
       "69           10       Solteiro  Branco  Masculino  BA  Nordeste          3.0   \n",
       "\n",
       "    salario  \n",
       "61   1100.0  \n",
       "69   3450.0  "
      ]
     },
     "execution_count": 39,
     "metadata": {},
     "output_type": "execute_result"
    }
   ],
   "source": [
    "df.query('index in (61,69)')"
   ]
  },
  {
   "cell_type": "markdown",
   "metadata": {},
   "source": [
    "### Correção de Dados Numéricos\n",
    "Existem várias técnicas comuns para corrigir dados ausentes em variáveis numéricas. Algumas das principais são:\n",
    "\n",
    "<input type=\"checkbox\" checked disabled> **Imputação pela Média ou Mediana**: Nessa técnica, os valores ausentes são substituídos pela média ou mediana dos valores existentes na variável. A média é mais sensível a valores extremos, enquanto a mediana é mais robusta a outliers.\n",
    "\n",
    "<input type=\"checkbox\" checked disabled> **Imputação por Valor Aleatório**: Os valores ausentes são preenchidos por um valor escolhido aleatoriamente, de acordo com a distribuição dos valores existentes na variável. Essa abordagem mantém a variabilidade dos dados originais.\n",
    "\n",
    "<input type=\"checkbox\" checked disabled> **Imputação por Regressão**: Nessa técnica, utiliza-se um modelo de regressão para prever os valores ausentes com base nos demais atributos do conjunto de dados. Essa abordagem é mais avançada e pode fornecer estimativas mais precisas.\n",
    "\n",
    "<input type=\"checkbox\" checked disabled> **Imputação Baseado nas Regras de Negócios** Nesse método, utilizamos conhecimentos específicos do domínio ou regras de negócios para preencher os valores faltantes de forma mais precisa e significativa. Ao analisar as regras de negócios, podemos identificar padrões e lógicas que nos auxiliam a inferir os valores ausentes com base em informações existentes no conjunto de dados ou em outras tabelas relacionadas. Essa análise pode envolver a verificação de dados em fontes adicionais ou a utilização de informações complementares para estimar os valores faltantes.\n",
    "\n",
    "    Por exemplo, se temos uma variável numérica que representa o histórico de vendas de um produto, e alguns valores estão ausentes, podemos aplicar regras de negócios para imputar esses valores com base em dados anteriores de vendas para o mesmo produto ou para produtos similares.\n",
    "***\n",
    "### Correção para a Variável \"Quantidade de filhos\""
   ]
  },
  {
   "cell_type": "code",
   "execution_count": 43,
   "metadata": {},
   "outputs": [],
   "source": [
    "df.dropna(subset=['qtde_filhos'],\n",
    "          inplace=True)"
   ]
  },
  {
   "cell_type": "markdown",
   "metadata": {},
   "source": [
    "### Visualização das Alterações na Variável \"Quantidade de Filhos\""
   ]
  },
  {
   "cell_type": "code",
   "execution_count": 44,
   "metadata": {},
   "outputs": [
    {
     "data": {
      "text/html": [
       "<div>\n",
       "<style scoped>\n",
       "    .dataframe tbody tr th:only-of-type {\n",
       "        vertical-align: middle;\n",
       "    }\n",
       "\n",
       "    .dataframe tbody tr th {\n",
       "        vertical-align: top;\n",
       "    }\n",
       "\n",
       "    .dataframe thead th {\n",
       "        text-align: right;\n",
       "    }\n",
       "</style>\n",
       "<table border=\"1\" class=\"dataframe\">\n",
       "  <thead>\n",
       "    <tr style=\"text-align: right;\">\n",
       "      <th></th>\n",
       "      <th>idade</th>\n",
       "      <th>classe_trabalho</th>\n",
       "      <th>escolaridade</th>\n",
       "      <th>anos_estudo</th>\n",
       "      <th>estado_civil</th>\n",
       "      <th>raca</th>\n",
       "      <th>sexo</th>\n",
       "      <th>UF</th>\n",
       "      <th>região</th>\n",
       "      <th>qtde_filhos</th>\n",
       "      <th>salario</th>\n",
       "    </tr>\n",
       "  </thead>\n",
       "  <tbody>\n",
       "  </tbody>\n",
       "</table>\n",
       "</div>"
      ],
      "text/plain": [
       "Empty DataFrame\n",
       "Columns: [idade, classe_trabalho, escolaridade, anos_estudo, estado_civil, raca, sexo, UF, região, qtde_filhos, salario]\n",
       "Index: []"
      ]
     },
     "execution_count": 44,
     "metadata": {},
     "output_type": "execute_result"
    }
   ],
   "source": [
    "df.query('index in (12,20)')"
   ]
  },
  {
   "cell_type": "markdown",
   "metadata": {},
   "source": [
    "### Correção para a Variável \"Salário\"\n",
    "\n"
   ]
  },
  {
   "cell_type": "code",
   "execution_count": 47,
   "metadata": {},
   "outputs": [],
   "source": [
    "media = round(df['salario'].mean(),2)\n",
    "\n",
    "df['salario'].fillna(value=media, \n",
    "                     inplace=True)\n"
   ]
  },
  {
   "cell_type": "markdown",
   "metadata": {},
   "source": [
    "### Visualização das Alterações na Variável \"Salário\""
   ]
  },
  {
   "cell_type": "code",
   "execution_count": 48,
   "metadata": {},
   "outputs": [
    {
     "data": {
      "text/html": [
       "<div>\n",
       "<style scoped>\n",
       "    .dataframe tbody tr th:only-of-type {\n",
       "        vertical-align: middle;\n",
       "    }\n",
       "\n",
       "    .dataframe tbody tr th {\n",
       "        vertical-align: top;\n",
       "    }\n",
       "\n",
       "    .dataframe thead th {\n",
       "        text-align: right;\n",
       "    }\n",
       "</style>\n",
       "<table border=\"1\" class=\"dataframe\">\n",
       "  <thead>\n",
       "    <tr style=\"text-align: right;\">\n",
       "      <th></th>\n",
       "      <th>idade</th>\n",
       "      <th>classe_trabalho</th>\n",
       "      <th>escolaridade</th>\n",
       "      <th>anos_estudo</th>\n",
       "      <th>estado_civil</th>\n",
       "      <th>raca</th>\n",
       "      <th>sexo</th>\n",
       "      <th>UF</th>\n",
       "      <th>região</th>\n",
       "      <th>qtde_filhos</th>\n",
       "      <th>salario</th>\n",
       "    </tr>\n",
       "  </thead>\n",
       "  <tbody>\n",
       "    <tr>\n",
       "      <th>242</th>\n",
       "      <td>20</td>\n",
       "      <td>Funcionário Setor Privado</td>\n",
       "      <td>Ensino Médio Completo</td>\n",
       "      <td>10</td>\n",
       "      <td>Solteiro</td>\n",
       "      <td>Branco</td>\n",
       "      <td>Masculino</td>\n",
       "      <td>RO</td>\n",
       "      <td>Norte</td>\n",
       "      <td>1.0</td>\n",
       "      <td>3185.91</td>\n",
       "    </tr>\n",
       "    <tr>\n",
       "      <th>962</th>\n",
       "      <td>34</td>\n",
       "      <td>Funcionário Setor Privado</td>\n",
       "      <td>Ensino Médio Incompleto</td>\n",
       "      <td>9</td>\n",
       "      <td>Casado</td>\n",
       "      <td>Branco</td>\n",
       "      <td>Masculino</td>\n",
       "      <td>GO</td>\n",
       "      <td>Centro-Oeste</td>\n",
       "      <td>1.0</td>\n",
       "      <td>3185.91</td>\n",
       "    </tr>\n",
       "  </tbody>\n",
       "</table>\n",
       "</div>"
      ],
      "text/plain": [
       "     idade            classe_trabalho             escolaridade  anos_estudo   \n",
       "242     20  Funcionário Setor Privado    Ensino Médio Completo           10  \\\n",
       "962     34  Funcionário Setor Privado  Ensino Médio Incompleto            9   \n",
       "\n",
       "    estado_civil    raca       sexo  UF        região  qtde_filhos  salario  \n",
       "242     Solteiro  Branco  Masculino  RO         Norte          1.0  3185.91  \n",
       "962       Casado  Branco  Masculino  GO  Centro-Oeste          1.0  3185.91  "
      ]
     },
     "execution_count": 48,
     "metadata": {},
     "output_type": "execute_result"
    }
   ],
   "source": [
    "df.query('index in (242,962)')"
   ]
  },
  {
   "cell_type": "markdown",
   "metadata": {},
   "source": [
    "### Análise de Dados Ausentes Após a Correção dos Dados"
   ]
  },
  {
   "cell_type": "code",
   "execution_count": 49,
   "metadata": {},
   "outputs": [
    {
     "data": {
      "text/plain": [
       "idade              0\n",
       "classe_trabalho    0\n",
       "escolaridade       0\n",
       "anos_estudo        0\n",
       "estado_civil       0\n",
       "raca               0\n",
       "sexo               0\n",
       "UF                 0\n",
       "região             0\n",
       "qtde_filhos        0\n",
       "salario            0\n",
       "dtype: int64"
      ]
     },
     "execution_count": 49,
     "metadata": {},
     "output_type": "execute_result"
    }
   ],
   "source": [
    "df.isna().sum()"
   ]
  },
  {
   "cell_type": "markdown",
   "metadata": {},
   "source": [
    "## Visualizações Gráficas dos Dados\n",
    "***\n",
    "\n",
    "Na análise de dados, a realização de diversas representações gráficas é de suma importância para fornecer insights visuais e aprimorar a compreensão das tendências, padrões e distribuições presentes no conjunto de dados. \n",
    "\n",
    "Utilizaremos gráficos como histogramas, gráficos de dispersão, box plots, barras, entre outros, para explorar diferentes aspectos dos dados e facilitar a identificação de relações e correlações entre as variáveis. As visualizações gráficas serão uma poderosa ferramenta para comunicar informações complexas de maneira mais acessível e apoiar análises mais profundas dos dados."
   ]
  },
  {
   "cell_type": "code",
   "execution_count": 51,
   "metadata": {},
   "outputs": [
    {
     "data": {
      "text/plain": [
       "Index(['idade', 'classe_trabalho', 'escolaridade', 'anos_estudo',\n",
       "       'estado_civil', 'raca', 'sexo', 'UF', 'região', 'qtde_filhos',\n",
       "       'salario'],\n",
       "      dtype='object')"
      ]
     },
     "execution_count": 51,
     "metadata": {},
     "output_type": "execute_result"
    }
   ],
   "source": [
    "df.columns"
   ]
  },
  {
   "cell_type": "markdown",
   "metadata": {},
   "source": [
    "### Histograma\n",
    "Um histograma é um gráfico que exibe a distribuição de frequência de dados em intervalos definidos, chamados \"bins\" ou \"classes\". Cada barra vertical no gráfico representa quantas observações estão dentro de um intervalo específico. O eixo horizontal mostra os valores dos dados e o eixo vertical indica quantas vezes esses valores ocorrem nos intervalos. \n",
    "\n",
    "O histograma ajuda a **identificar padrões, tendências e características dos dados**, como médias, variações e possíveis valores extremos. Ao analisar sua forma, simétrica ou assimétrica, é possível obter insights sobre a distribuição dos dados, incluindo se eles seguem uma distribuição normal."
   ]
  },
  {
   "cell_type": "code",
   "execution_count": 52,
   "metadata": {},
   "outputs": [
    {
     "data": {
      "text/plain": [
       "<Axes: title={'center': 'Distribuição das Idades'}, xlabel='idade', ylabel='Count'>"
      ]
     },
     "execution_count": 52,
     "metadata": {},
     "output_type": "execute_result"
    },
    {
     "data": {
      "image/png": "[encoded data removed]",
      "text/plain": [
       "<Figure size 2000x700 with 1 Axes>"
      ]
     },
     "metadata": {},
     "output_type": "display_data"
    }
   ],
   "source": [
    "plt.figure(figsize=(20,7))\n",
    "plt.title('Distribuição das Idades', size=20)\n",
    "sns.histplot(data=df,\n",
    "             x='idade',\n",
    "             bins=25\n",
    ")"
   ]
  },
  {
   "cell_type": "code",
   "execution_count": 53,
   "metadata": {},
   "outputs": [
    {
     "data": {
      "text/plain": [
       "<Axes: title={'center': 'Distribuição dos Salários'}, xlabel='salario', ylabel='Count'>"
      ]
     },
     "execution_count": 53,
     "metadata": {},
     "output_type": "execute_result"
    },
    {
     "data": {
      "image/png": "[encoded data removed]",
      "text/plain": [
       "<Figure size 2000x700 with 1 Axes>"
      ]
     },
     "metadata": {},
     "output_type": "display_data"
    }
   ],
   "source": [
    "plt.figure(figsize=(20,7))\n",
    "plt.title('Distribuição dos Salários', size=20)\n",
    "sns.histplot(data=df,\n",
    "             x='salario',\n",
    "             bins=25\n",
    ")"
   ]
  },
  {
   "cell_type": "markdown",
   "metadata": {},
   "source": [
    "### Boxplot\n",
    "O Box Plot, também conhecido como gráfico de caixa, é uma representação visual que fornece informações valiosas sobre a distribuição e variação de um conjunto de dados. Ele exibe a mediana, quartis e possíveis valores atípicos de forma concisa e fácil de entender. \n",
    "\n",
    "No gráfico, uma caixa é desenhada com os limites superior e inferior representando o intervalo interquartil (IQR), enquanto a linha dentro da caixa indica a mediana. As \"whiskers\" (linhas que se estendem para fora da caixa) podem mostrar os limites dos valores considerados normais, e pontos fora desses limites são representações visuais de valores atípicos. O Box Plot é uma ferramenta valiosa para identificar padrões, tendências e discrepâncias nos dados de maneira eficiente."
   ]
  },
  {
   "cell_type": "code",
   "execution_count": 54,
   "metadata": {},
   "outputs": [
    {
     "data": {
      "text/plain": [
       "<Axes: title={'center': 'Gráfico Boxplot'}, xlabel='idade'>"
      ]
     },
     "execution_count": 54,
     "metadata": {},
     "output_type": "execute_result"
    },
    {
     "data": {
      "image/png": "[encoded data removed]",
      "text/plain": [
       "<Figure size 500x300 with 1 Axes>"
      ]
     },
     "metadata": {},
     "output_type": "display_data"
    }
   ],
   "source": [
    "plt.figure(figsize=(5,3))\n",
    "plt.title('Gráfico Boxplot', size=20)\n",
    "sns.boxplot(data=df.query('estado_civil == \"Solteiro\"'),\n",
    "             x='idade',\n",
    "             orient='h'\n",
    ")"
   ]
  },
  {
   "cell_type": "code",
   "execution_count": 55,
   "metadata": {},
   "outputs": [
    {
     "data": {
      "text/plain": [
       "count    2599.000000\n",
       "mean       28.333975\n",
       "std        10.419790\n",
       "min        17.000000\n",
       "25%        21.000000\n",
       "50%        25.000000\n",
       "75%        32.000000\n",
       "max        90.000000\n",
       "Name: idade, dtype: float64"
      ]
     },
     "execution_count": 55,
     "metadata": {},
     "output_type": "execute_result"
    }
   ],
   "source": [
    "idades_solteiros = df.query('estado_civil == \"Solteiro\"')\n",
    "idades_solteiros['idade'].describe()"
   ]
  },
  {
   "cell_type": "markdown",
   "metadata": {},
   "source": [
    "### Explorando Variações com Box Plots em Múltiplas Categorias"
   ]
  },
  {
   "cell_type": "code",
   "execution_count": 62,
   "metadata": {},
   "outputs": [
    {
     "data": {
      "text/plain": [
       "<Axes: title={'center': 'Gráfico Boxplot'}, xlabel='idade', ylabel='classe_trabalho'>"
      ]
     },
     "execution_count": 62,
     "metadata": {},
     "output_type": "execute_result"
    },
    {
     "data": {
      "image/png": "[encoded data removed]",
      "text/plain": [
       "<Figure size 700x500 with 1 Axes>"
      ]
     },
     "metadata": {},
     "output_type": "display_data"
    }
   ],
   "source": [
    "plt.figure(figsize=(7,5))\n",
    "plt.title('Gráfico Boxplot', size=10)\n",
    "sns.boxplot(data=df,\n",
    "             x='idade',\n",
    "             y='classe_trabalho',\n",
    "             orient='h', \n",
    "             palette='flare'\n",
    ")"
   ]
  },
  {
   "cell_type": "markdown",
   "metadata": {},
   "source": [
    "### Dispersão \n",
    "Um gráfico de dispersão é uma representação visual que ajuda a observar a relação entre duas variáveis. Ele é composto por pontos no plano cartesiano, onde cada ponto representa uma observação com valores diferentes nas duas variáveis. \n",
    "\n",
    "Esse tipo de gráfico permite identificar tendências, padrões e agrupamentos nos dados. Se os pontos se aproximam de uma linha ou forma específica, isso pode indicar uma relação linear ou não linear entre as variáveis. Os gráficos de dispersão são úteis para visualizar como as variáveis mudam em conjunto e para identificar possíveis correlações ou insights nos dados."
   ]
  },
  {
   "cell_type": "code",
   "execution_count": 65,
   "metadata": {},
   "outputs": [],
   "source": [
    "media_estudo = pd.DataFrame(df.groupby(['anos_estudo'])['salario'].mean())"
   ]
  },
  {
   "cell_type": "code",
   "execution_count": 67,
   "metadata": {},
   "outputs": [
    {
     "data": {
      "text/html": [
       "<div>\n",
       "<style scoped>\n",
       "    .dataframe tbody tr th:only-of-type {\n",
       "        vertical-align: middle;\n",
       "    }\n",
       "\n",
       "    .dataframe tbody tr th {\n",
       "        vertical-align: top;\n",
       "    }\n",
       "\n",
       "    .dataframe thead th {\n",
       "        text-align: right;\n",
       "    }\n",
       "</style>\n",
       "<table border=\"1\" class=\"dataframe\">\n",
       "  <thead>\n",
       "    <tr style=\"text-align: right;\">\n",
       "      <th></th>\n",
       "      <th>anos_estudo</th>\n",
       "      <th>salario</th>\n",
       "    </tr>\n",
       "  </thead>\n",
       "  <tbody>\n",
       "    <tr>\n",
       "      <th>0</th>\n",
       "      <td>1</td>\n",
       "      <td>2523.818182</td>\n",
       "    </tr>\n",
       "    <tr>\n",
       "      <th>1</th>\n",
       "      <td>2</td>\n",
       "      <td>1140.729730</td>\n",
       "    </tr>\n",
       "    <tr>\n",
       "      <th>2</th>\n",
       "      <td>3</td>\n",
       "      <td>1757.597015</td>\n",
       "    </tr>\n",
       "    <tr>\n",
       "      <th>3</th>\n",
       "      <td>4</td>\n",
       "      <td>1743.445122</td>\n",
       "    </tr>\n",
       "    <tr>\n",
       "      <th>4</th>\n",
       "      <td>5</td>\n",
       "      <td>2128.453154</td>\n",
       "    </tr>\n",
       "    <tr>\n",
       "      <th>5</th>\n",
       "      <td>6</td>\n",
       "      <td>1587.751752</td>\n",
       "    </tr>\n",
       "    <tr>\n",
       "      <th>6</th>\n",
       "      <td>7</td>\n",
       "      <td>1593.420339</td>\n",
       "    </tr>\n",
       "    <tr>\n",
       "      <th>7</th>\n",
       "      <td>8</td>\n",
       "      <td>1669.918605</td>\n",
       "    </tr>\n",
       "    <tr>\n",
       "      <th>8</th>\n",
       "      <td>9</td>\n",
       "      <td>1765.257110</td>\n",
       "    </tr>\n",
       "    <tr>\n",
       "      <th>9</th>\n",
       "      <td>10</td>\n",
       "      <td>3563.421345</td>\n",
       "    </tr>\n",
       "    <tr>\n",
       "      <th>10</th>\n",
       "      <td>11</td>\n",
       "      <td>3336.131737</td>\n",
       "    </tr>\n",
       "    <tr>\n",
       "      <th>11</th>\n",
       "      <td>12</td>\n",
       "      <td>3685.652510</td>\n",
       "    </tr>\n",
       "    <tr>\n",
       "      <th>12</th>\n",
       "      <td>13</td>\n",
       "      <td>3874.219814</td>\n",
       "    </tr>\n",
       "    <tr>\n",
       "      <th>13</th>\n",
       "      <td>14</td>\n",
       "      <td>8126.121854</td>\n",
       "    </tr>\n",
       "    <tr>\n",
       "      <th>14</th>\n",
       "      <td>15</td>\n",
       "      <td>7266.607692</td>\n",
       "    </tr>\n",
       "    <tr>\n",
       "      <th>15</th>\n",
       "      <td>16</td>\n",
       "      <td>10932.804348</td>\n",
       "    </tr>\n",
       "  </tbody>\n",
       "</table>\n",
       "</div>"
      ],
      "text/plain": [
       "    anos_estudo       salario\n",
       "0             1   2523.818182\n",
       "1             2   1140.729730\n",
       "2             3   1757.597015\n",
       "3             4   1743.445122\n",
       "4             5   2128.453154\n",
       "5             6   1587.751752\n",
       "6             7   1593.420339\n",
       "7             8   1669.918605\n",
       "8             9   1765.257110\n",
       "9            10   3563.421345\n",
       "10           11   3336.131737\n",
       "11           12   3685.652510\n",
       "12           13   3874.219814\n",
       "13           14   8126.121854\n",
       "14           15   7266.607692\n",
       "15           16  10932.804348"
      ]
     },
     "execution_count": 67,
     "metadata": {},
     "output_type": "execute_result"
    }
   ],
   "source": [
    "media_estudo.reset_index(inplace=True)\n",
    "media_estudo"
   ]
  },
  {
   "cell_type": "code",
   "execution_count": 70,
   "metadata": {},
   "outputs": [
    {
     "data": {
      "image/png": "[encoded data removed]",
      "text/plain": [
       "<Figure size 700x500 with 1 Axes>"
      ]
     },
     "metadata": {},
     "output_type": "display_data"
    }
   ],
   "source": [
    "plt.figure(figsize=(7,5))\n",
    "plt.title('Gráfico Dispersão', size=10)\n",
    "sns.scatterplot(data=media_estudo,\n",
    "                x='anos_estudo',\n",
    "                y='salario'\n",
    ")\n",
    "plt.xlabel('Anos de Estudo')\n",
    "plt.ylabel('Média dos Salários')\n",
    "\n",
    "plt.show()"
   ]
  },
  {
   "cell_type": "markdown",
   "metadata": {},
   "source": [
    "### Barras\n",
    "Um gráfico de barras é uma representação visual que mostra a contagem ou proporção de diferentes categorias em um conjunto de dados. Ele é composto por barras retangulares, onde o comprimento de cada barra corresponde à frequência ou valor das categorias. \n",
    "\n",
    "Esse tipo de gráfico é usado para comparar quantidades entre diferentes categorias de maneira fácil e rápida. Cada barra pode ser rotulada para identificar a categoria que ela representa. Gráficos de barras são amplamente utilizados para resumir informações e identificar tendências em dados categóricos, tornando mais simples a interpretação de padrões e distribuições.\n"
   ]
  },
  {
   "cell_type": "code",
   "execution_count": 74,
   "metadata": {},
   "outputs": [
    {
     "data": {
      "image/png": "[encoded data removed]",
      "text/plain": [
       "<Figure size 1000x700 with 1 Axes>"
      ]
     },
     "metadata": {},
     "output_type": "display_data"
    }
   ],
   "source": [
    "plt.figure(figsize=(10,7))\n",
    "plt.title('Gráfico Barras', size=10)\n",
    "sns.countplot(data=df,\n",
    "             x='escolaridade',\n",
    ")\n",
    "plt.xticks(rotation=45, ha='right')\n",
    "\n",
    "plt.show()"
   ]
  },
  {
   "cell_type": "markdown",
   "metadata": {},
   "source": [
    "### Análise Comparativa por Meio de Gráficos de Barras"
   ]
  },
  {
   "cell_type": "code",
   "execution_count": 76,
   "metadata": {},
   "outputs": [
    {
     "data": {
      "text/plain": [
       "<Axes: title={'center': 'Gráfico Barras'}, xlabel='anos_estudo', ylabel='salario'>"
      ]
     },
     "execution_count": 76,
     "metadata": {},
     "output_type": "execute_result"
    },
    {
     "data": {
      "image/png": "[encoded data removed]",
      "text/plain": [
       "<Figure size 1000x700 with 1 Axes>"
      ]
     },
     "metadata": {},
     "output_type": "display_data"
    }
   ],
   "source": [
    "plt.figure(figsize=(10,7))\n",
    "plt.title('Gráfico Barras', size=10)\n",
    "sns.barplot(data=media_estudo,\n",
    "           x='anos_estudo',\n",
    "           y='salario'\n",
    "           )"
   ]
  },
  {
   "cell_type": "markdown",
   "metadata": {},
   "source": [
    "### Explorando Relações de Correlação entre Variáveis\n",
    "A análise de correlação é uma abordagem fundamental na exploração de relações entre variáveis em um conjunto de dados. Ela permite compreender se e como duas variáveis estão relacionadas e como uma delas pode afetar a outra.\n",
    "\n",
    "A correlação quantifica a força e a direção da relação entre as variáveis. O coeficiente de correlação varia de -1 a 1. \n",
    "\n",
    "<input type=\"checkbox\" checked disabled> Um valor próximo de 1 **indica uma forte correlação positiva**, ou seja, quando uma variável aumenta, a outra tende a aumentar também. \n",
    "\n",
    "<input type=\"checkbox\" checked disabled> Por outro lado, um valor próximo de -1 **indica uma forte correlação negativa**, onde o aumento em uma variável está associado a uma diminuição na outra. \n",
    "\n",
    "<input type=\"checkbox\" checked disabled> Um valor próximo a 0 **sugere que não há uma correlação linear aparente** entre as variáveis."
   ]
  },
  {
   "cell_type": "code",
   "execution_count": 78,
   "metadata": {},
   "outputs": [
    {
     "data": {
      "text/html": [
       "<div>\n",
       "<style scoped>\n",
       "    .dataframe tbody tr th:only-of-type {\n",
       "        vertical-align: middle;\n",
       "    }\n",
       "\n",
       "    .dataframe tbody tr th {\n",
       "        vertical-align: top;\n",
       "    }\n",
       "\n",
       "    .dataframe thead th {\n",
       "        text-align: right;\n",
       "    }\n",
       "</style>\n",
       "<table border=\"1\" class=\"dataframe\">\n",
       "  <thead>\n",
       "    <tr style=\"text-align: right;\">\n",
       "      <th></th>\n",
       "      <th>anos_estudo</th>\n",
       "      <th>salario</th>\n",
       "      <th>qtde_filhos</th>\n",
       "      <th>idade</th>\n",
       "    </tr>\n",
       "  </thead>\n",
       "  <tbody>\n",
       "    <tr>\n",
       "      <th>anos_estudo</th>\n",
       "      <td>1.00</td>\n",
       "      <td>0.46</td>\n",
       "      <td>0.04</td>\n",
       "      <td>0.03</td>\n",
       "    </tr>\n",
       "    <tr>\n",
       "      <th>salario</th>\n",
       "      <td>0.46</td>\n",
       "      <td>1.00</td>\n",
       "      <td>0.00</td>\n",
       "      <td>0.11</td>\n",
       "    </tr>\n",
       "    <tr>\n",
       "      <th>qtde_filhos</th>\n",
       "      <td>0.04</td>\n",
       "      <td>0.00</td>\n",
       "      <td>1.00</td>\n",
       "      <td>0.09</td>\n",
       "    </tr>\n",
       "    <tr>\n",
       "      <th>idade</th>\n",
       "      <td>0.03</td>\n",
       "      <td>0.11</td>\n",
       "      <td>0.09</td>\n",
       "      <td>1.00</td>\n",
       "    </tr>\n",
       "  </tbody>\n",
       "</table>\n",
       "</div>"
      ],
      "text/plain": [
       "             anos_estudo  salario  qtde_filhos  idade\n",
       "anos_estudo         1.00     0.46         0.04   0.03\n",
       "salario             0.46     1.00         0.00   0.11\n",
       "qtde_filhos         0.04     0.00         1.00   0.09\n",
       "idade               0.03     0.11         0.09   1.00"
      ]
     },
     "execution_count": 78,
     "metadata": {},
     "output_type": "execute_result"
    }
   ],
   "source": [
    "colunas = ['anos_estudo', 'salario', 'qtde_filhos', 'idade']\n",
    "round(df[colunas].corr(),2)"
   ]
  },
  {
   "cell_type": "code",
   "execution_count": 79,
   "metadata": {},
   "outputs": [
    {
     "data": {
      "text/html": [
       "<div>\n",
       "<style scoped>\n",
       "    .dataframe tbody tr th:only-of-type {\n",
       "        vertical-align: middle;\n",
       "    }\n",
       "\n",
       "    .dataframe tbody tr th {\n",
       "        vertical-align: top;\n",
       "    }\n",
       "\n",
       "    .dataframe thead th {\n",
       "        text-align: right;\n",
       "    }\n",
       "</style>\n",
       "<table border=\"1\" class=\"dataframe\">\n",
       "  <thead>\n",
       "    <tr style=\"text-align: right;\">\n",
       "      <th></th>\n",
       "      <th>anos_estudo</th>\n",
       "      <th>salario</th>\n",
       "      <th>qtde_filhos</th>\n",
       "      <th>idade</th>\n",
       "    </tr>\n",
       "  </thead>\n",
       "  <tbody>\n",
       "    <tr>\n",
       "      <th>anos_estudo</th>\n",
       "      <td>1.00</td>\n",
       "      <td>0.46</td>\n",
       "      <td>0.04</td>\n",
       "      <td>0.03</td>\n",
       "    </tr>\n",
       "    <tr>\n",
       "      <th>salario</th>\n",
       "      <td>0.46</td>\n",
       "      <td>1.00</td>\n",
       "      <td>0.00</td>\n",
       "      <td>0.11</td>\n",
       "    </tr>\n",
       "    <tr>\n",
       "      <th>qtde_filhos</th>\n",
       "      <td>0.04</td>\n",
       "      <td>0.00</td>\n",
       "      <td>1.00</td>\n",
       "      <td>0.09</td>\n",
       "    </tr>\n",
       "    <tr>\n",
       "      <th>idade</th>\n",
       "      <td>0.03</td>\n",
       "      <td>0.11</td>\n",
       "      <td>0.09</td>\n",
       "      <td>1.00</td>\n",
       "    </tr>\n",
       "  </tbody>\n",
       "</table>\n",
       "</div>"
      ],
      "text/plain": [
       "             anos_estudo  salario  qtde_filhos  idade\n",
       "anos_estudo         1.00     0.46         0.04   0.03\n",
       "salario             0.46     1.00         0.00   0.11\n",
       "qtde_filhos         0.04     0.00         1.00   0.09\n",
       "idade               0.03     0.11         0.09   1.00"
      ]
     },
     "execution_count": 79,
     "metadata": {},
     "output_type": "execute_result"
    }
   ],
   "source": [
    "dados_correlacao = round(df[colunas].corr(),2)\n",
    "dados_correlacao"
   ]
  },
  {
   "cell_type": "markdown",
   "metadata": {},
   "source": [
    "### Heatmap \n",
    "Um Heatmap, ou mapa de calor, é uma representação gráfica que ajuda a visualizar a distribuição e a intensidade de valores em uma matriz. Nesse tipo de gráfico, as células são coloridas com diferentes tonalidades de acordo com os valores que elas representam. As cores mais intensas indicam valores maiores, enquanto as cores mais suaves correspondem a valores menores."
   ]
  },
  {
   "cell_type": "code",
   "execution_count": 93,
   "metadata": {},
   "outputs": [
    {
     "data": {
      "image/png": "[encoded data removed]",
      "text/plain": [
       "<Figure size 500x300 with 2 Axes>"
      ]
     },
     "metadata": {},
     "output_type": "display_data"
    }
   ],
   "source": [
    "plt.figure(figsize=(5,3))\n",
    "plt.title('Gráfico Heatmap', size=10)\n",
    "sns.heatmap(data=dados_correlacao,\n",
    "            cmap='coolwarm',\n",
    "            linewidths=0.1,\n",
    "            linecolor='white',\n",
    "            annot=True\n",
    "           )\n",
    "plt.show()"
   ]
  },
  {
   "cell_type": "markdown",
   "metadata": {},
   "source": [
    "## Explorando Padrões Através de Agregação de Dados\n",
    "***\n",
    "A agregação de dados é uma prática fundamental na análise de informações, pois permite transformar grandes volumes de dados em insights compreensíveis. Essa técnica envolve a combinação, resumo e organização de informações para revelar padrões, tendências e informações relevantes que não seriam facilmente identificáveis nos dados brutos"
   ]
  },
  {
   "cell_type": "code",
   "execution_count": 87,
   "metadata": {},
   "outputs": [
    {
     "data": {
      "text/html": [
       "<div>\n",
       "<style scoped>\n",
       "    .dataframe tbody tr th:only-of-type {\n",
       "        vertical-align: middle;\n",
       "    }\n",
       "\n",
       "    .dataframe tbody tr th {\n",
       "        vertical-align: top;\n",
       "    }\n",
       "\n",
       "    .dataframe thead th {\n",
       "        text-align: right;\n",
       "    }\n",
       "</style>\n",
       "<table border=\"1\" class=\"dataframe\">\n",
       "  <thead>\n",
       "    <tr style=\"text-align: right;\">\n",
       "      <th></th>\n",
       "      <th>idade</th>\n",
       "      <th>classe_trabalho</th>\n",
       "      <th>escolaridade</th>\n",
       "      <th>anos_estudo</th>\n",
       "      <th>estado_civil</th>\n",
       "      <th>raca</th>\n",
       "      <th>sexo</th>\n",
       "      <th>UF</th>\n",
       "      <th>região</th>\n",
       "      <th>qtde_filhos</th>\n",
       "      <th>salario</th>\n",
       "    </tr>\n",
       "  </thead>\n",
       "  <tbody>\n",
       "    <tr>\n",
       "      <th>0</th>\n",
       "      <td>39</td>\n",
       "      <td>Servidor Público</td>\n",
       "      <td>Ensino Médio Completo</td>\n",
       "      <td>13</td>\n",
       "      <td>Solteiro</td>\n",
       "      <td>Branco</td>\n",
       "      <td>Masculino</td>\n",
       "      <td>RO</td>\n",
       "      <td>Norte</td>\n",
       "      <td>2.0</td>\n",
       "      <td>4754.0</td>\n",
       "    </tr>\n",
       "    <tr>\n",
       "      <th>1</th>\n",
       "      <td>50</td>\n",
       "      <td>Autônomo</td>\n",
       "      <td>Superior Incompleto</td>\n",
       "      <td>13</td>\n",
       "      <td>Casado</td>\n",
       "      <td>Branco</td>\n",
       "      <td>Masculino</td>\n",
       "      <td>AC</td>\n",
       "      <td>Norte</td>\n",
       "      <td>1.0</td>\n",
       "      <td>3923.0</td>\n",
       "    </tr>\n",
       "    <tr>\n",
       "      <th>2</th>\n",
       "      <td>38</td>\n",
       "      <td>Funcionário Setor Privado</td>\n",
       "      <td>Ensino Médio Incompleto</td>\n",
       "      <td>9</td>\n",
       "      <td>Divorciado</td>\n",
       "      <td>Branco</td>\n",
       "      <td>Masculino</td>\n",
       "      <td>AM</td>\n",
       "      <td>Norte</td>\n",
       "      <td>0.0</td>\n",
       "      <td>1100.0</td>\n",
       "    </tr>\n",
       "    <tr>\n",
       "      <th>3</th>\n",
       "      <td>53</td>\n",
       "      <td>Funcionário Setor Privado</td>\n",
       "      <td>Ensino Médio Incompleto</td>\n",
       "      <td>7</td>\n",
       "      <td>Casado</td>\n",
       "      <td>Negro</td>\n",
       "      <td>Masculino</td>\n",
       "      <td>RR</td>\n",
       "      <td>Norte</td>\n",
       "      <td>1.0</td>\n",
       "      <td>1100.0</td>\n",
       "    </tr>\n",
       "    <tr>\n",
       "      <th>4</th>\n",
       "      <td>28</td>\n",
       "      <td>Funcionário Setor Privado</td>\n",
       "      <td>Ensino Médio Completo</td>\n",
       "      <td>13</td>\n",
       "      <td>Casado</td>\n",
       "      <td>Negro</td>\n",
       "      <td>Feminino</td>\n",
       "      <td>PA</td>\n",
       "      <td>Norte</td>\n",
       "      <td>0.0</td>\n",
       "      <td>3430.0</td>\n",
       "    </tr>\n",
       "  </tbody>\n",
       "</table>\n",
       "</div>"
      ],
      "text/plain": [
       "   idade            classe_trabalho             escolaridade  anos_estudo   \n",
       "0     39           Servidor Público    Ensino Médio Completo           13  \\\n",
       "1     50                   Autônomo      Superior Incompleto           13   \n",
       "2     38  Funcionário Setor Privado  Ensino Médio Incompleto            9   \n",
       "3     53  Funcionário Setor Privado  Ensino Médio Incompleto            7   \n",
       "4     28  Funcionário Setor Privado    Ensino Médio Completo           13   \n",
       "\n",
       "  estado_civil    raca       sexo  UF região  qtde_filhos  salario  \n",
       "0     Solteiro  Branco  Masculino  RO  Norte          2.0   4754.0  \n",
       "1       Casado  Branco  Masculino  AC  Norte          1.0   3923.0  \n",
       "2   Divorciado  Branco  Masculino  AM  Norte          0.0   1100.0  \n",
       "3       Casado   Negro  Masculino  RR  Norte          1.0   1100.0  \n",
       "4       Casado   Negro   Feminino  PA  Norte          0.0   3430.0  "
      ]
     },
     "execution_count": 87,
     "metadata": {},
     "output_type": "execute_result"
    }
   ],
   "source": [
    "df.head()"
   ]
  },
  {
   "cell_type": "code",
   "execution_count": 88,
   "metadata": {},
   "outputs": [
    {
     "data": {
      "text/plain": [
       "escolaridade\n",
       "Analfabeto                        1.000000\n",
       "Doutorado                        16.000000\n",
       "Ensino Fundamental Completo       5.642857\n",
       "Ensino Fundamental Incompleto     3.473881\n",
       "Ensino Médio Completo            11.263285\n",
       "Ensino Médio Incompleto           8.767506\n",
       "Mestrado                         14.233813\n",
       "Pós-Graduado                     10.600000\n",
       "Superior Completo                10.166667\n",
       "Superior Incompleto              11.000000\n",
       "Name: anos_estudo, dtype: float64"
      ]
     },
     "execution_count": 88,
     "metadata": {},
     "output_type": "execute_result"
    }
   ],
   "source": [
    "df.groupby('escolaridade')['anos_estudo'].mean()"
   ]
  },
  {
   "cell_type": "code",
   "execution_count": 92,
   "metadata": {},
   "outputs": [
    {
     "data": {
      "text/html": [
       "<div>\n",
       "<style scoped>\n",
       "    .dataframe tbody tr th:only-of-type {\n",
       "        vertical-align: middle;\n",
       "    }\n",
       "\n",
       "    .dataframe tbody tr th {\n",
       "        vertical-align: top;\n",
       "    }\n",
       "\n",
       "    .dataframe thead th {\n",
       "        text-align: right;\n",
       "    }\n",
       "</style>\n",
       "<table border=\"1\" class=\"dataframe\">\n",
       "  <thead>\n",
       "    <tr style=\"text-align: right;\">\n",
       "      <th></th>\n",
       "      <th></th>\n",
       "      <th>total</th>\n",
       "      <th>media_idade</th>\n",
       "    </tr>\n",
       "    <tr>\n",
       "      <th>região</th>\n",
       "      <th>sexo</th>\n",
       "      <th></th>\n",
       "      <th></th>\n",
       "    </tr>\n",
       "  </thead>\n",
       "  <tbody>\n",
       "    <tr>\n",
       "      <th rowspan=\"2\" valign=\"top\">Centro-Oeste</th>\n",
       "      <th>Feminino</th>\n",
       "      <td>399</td>\n",
       "      <td>36.639098</td>\n",
       "    </tr>\n",
       "    <tr>\n",
       "      <th>Masculino</th>\n",
       "      <td>782</td>\n",
       "      <td>39.359335</td>\n",
       "    </tr>\n",
       "    <tr>\n",
       "      <th rowspan=\"2\" valign=\"top\">Nordeste</th>\n",
       "      <th>Feminino</th>\n",
       "      <td>862</td>\n",
       "      <td>37.397912</td>\n",
       "    </tr>\n",
       "    <tr>\n",
       "      <th>Masculino</th>\n",
       "      <td>1780</td>\n",
       "      <td>39.344382</td>\n",
       "    </tr>\n",
       "    <tr>\n",
       "      <th rowspan=\"2\" valign=\"top\">Norte</th>\n",
       "      <th>Feminino</th>\n",
       "      <td>673</td>\n",
       "      <td>36.958395</td>\n",
       "    </tr>\n",
       "    <tr>\n",
       "      <th>Masculino</th>\n",
       "      <td>1388</td>\n",
       "      <td>39.291066</td>\n",
       "    </tr>\n",
       "    <tr>\n",
       "      <th rowspan=\"2\" valign=\"top\">Sudeste</th>\n",
       "      <th>Feminino</th>\n",
       "      <td>403</td>\n",
       "      <td>36.037221</td>\n",
       "    </tr>\n",
       "    <tr>\n",
       "      <th>Masculino</th>\n",
       "      <td>771</td>\n",
       "      <td>38.715953</td>\n",
       "    </tr>\n",
       "    <tr>\n",
       "      <th rowspan=\"2\" valign=\"top\">Sul</th>\n",
       "      <th>Feminino</th>\n",
       "      <td>279</td>\n",
       "      <td>38.017921</td>\n",
       "    </tr>\n",
       "    <tr>\n",
       "      <th>Masculino</th>\n",
       "      <td>597</td>\n",
       "      <td>39.698492</td>\n",
       "    </tr>\n",
       "  </tbody>\n",
       "</table>\n",
       "</div>"
      ],
      "text/plain": [
       "                        total  media_idade\n",
       "região       sexo                         \n",
       "Centro-Oeste Feminino     399    36.639098\n",
       "             Masculino    782    39.359335\n",
       "Nordeste     Feminino     862    37.397912\n",
       "             Masculino   1780    39.344382\n",
       "Norte        Feminino     673    36.958395\n",
       "             Masculino   1388    39.291066\n",
       "Sudeste      Feminino     403    36.037221\n",
       "             Masculino    771    38.715953\n",
       "Sul          Feminino     279    38.017921\n",
       "             Masculino    597    39.698492"
      ]
     },
     "execution_count": 92,
     "metadata": {},
     "output_type": "execute_result"
    }
   ],
   "source": [
    "df.groupby(['região','sexo']).agg(\n",
    "    total=('sexo', 'count'),\n",
    "    media_idade = ('idade', 'mean')\n",
    ")"
   ]
  },
  {
   "cell_type": "code",
   "execution_count": 98,
   "metadata": {},
   "outputs": [
    {
     "data": {
      "text/html": [
       "<div>\n",
       "<style scoped>\n",
       "    .dataframe tbody tr th:only-of-type {\n",
       "        vertical-align: middle;\n",
       "    }\n",
       "\n",
       "    .dataframe tbody tr th {\n",
       "        vertical-align: top;\n",
       "    }\n",
       "\n",
       "    .dataframe thead th {\n",
       "        text-align: right;\n",
       "    }\n",
       "</style>\n",
       "<table border=\"1\" class=\"dataframe\">\n",
       "  <thead>\n",
       "    <tr style=\"text-align: right;\">\n",
       "      <th></th>\n",
       "      <th>escolaridade</th>\n",
       "      <th>total</th>\n",
       "      <th>media_salario</th>\n",
       "      <th>mediana</th>\n",
       "    </tr>\n",
       "  </thead>\n",
       "  <tbody>\n",
       "    <tr>\n",
       "      <th>0</th>\n",
       "      <td>Analfabeto</td>\n",
       "      <td>11</td>\n",
       "      <td>2523.82</td>\n",
       "      <td>1100.0</td>\n",
       "    </tr>\n",
       "    <tr>\n",
       "      <th>1</th>\n",
       "      <td>Doutorado</td>\n",
       "      <td>92</td>\n",
       "      <td>10932.80</td>\n",
       "      <td>11703.0</td>\n",
       "    </tr>\n",
       "    <tr>\n",
       "      <th>2</th>\n",
       "      <td>Ensino Fundamental Completo</td>\n",
       "      <td>364</td>\n",
       "      <td>1780.86</td>\n",
       "      <td>1100.0</td>\n",
       "    </tr>\n",
       "    <tr>\n",
       "      <th>3</th>\n",
       "      <td>Ensino Fundamental Incompleto</td>\n",
       "      <td>268</td>\n",
       "      <td>1663.77</td>\n",
       "      <td>1100.0</td>\n",
       "    </tr>\n",
       "    <tr>\n",
       "      <th>4</th>\n",
       "      <td>Ensino Médio Completo</td>\n",
       "      <td>3726</td>\n",
       "      <td>3650.99</td>\n",
       "      <td>3154.0</td>\n",
       "    </tr>\n",
       "    <tr>\n",
       "      <th>5</th>\n",
       "      <td>Ensino Médio Incompleto</td>\n",
       "      <td>2899</td>\n",
       "      <td>1726.83</td>\n",
       "      <td>1100.0</td>\n",
       "    </tr>\n",
       "    <tr>\n",
       "      <th>6</th>\n",
       "      <td>Mestrado</td>\n",
       "      <td>556</td>\n",
       "      <td>7925.16</td>\n",
       "      <td>8102.5</td>\n",
       "    </tr>\n",
       "    <tr>\n",
       "      <th>7</th>\n",
       "      <td>Pós-Graduado</td>\n",
       "      <td>5</td>\n",
       "      <td>8658.20</td>\n",
       "      <td>7564.0</td>\n",
       "    </tr>\n",
       "    <tr>\n",
       "      <th>8</th>\n",
       "      <td>Superior Completo</td>\n",
       "      <td>6</td>\n",
       "      <td>9726.17</td>\n",
       "      <td>9337.5</td>\n",
       "    </tr>\n",
       "    <tr>\n",
       "      <th>9</th>\n",
       "      <td>Superior Incompleto</td>\n",
       "      <td>7</td>\n",
       "      <td>4517.71</td>\n",
       "      <td>3716.0</td>\n",
       "    </tr>\n",
       "  </tbody>\n",
       "</table>\n",
       "</div>"
      ],
      "text/plain": [
       "                    escolaridade  total  media_salario  mediana\n",
       "0                     Analfabeto     11        2523.82   1100.0\n",
       "1                      Doutorado     92       10932.80  11703.0\n",
       "2    Ensino Fundamental Completo    364        1780.86   1100.0\n",
       "3  Ensino Fundamental Incompleto    268        1663.77   1100.0\n",
       "4          Ensino Médio Completo   3726        3650.99   3154.0\n",
       "5        Ensino Médio Incompleto   2899        1726.83   1100.0\n",
       "6                       Mestrado    556        7925.16   8102.5\n",
       "7                   Pós-Graduado      5        8658.20   7564.0\n",
       "8              Superior Completo      6        9726.17   9337.5\n",
       "9            Superior Incompleto      7        4517.71   3716.0"
      ]
     },
     "execution_count": 98,
     "metadata": {},
     "output_type": "execute_result"
    }
   ],
   "source": [
    "df.groupby(['escolaridade'], as_index=False).agg(\n",
    "    total=('sexo', 'count'), \n",
    "    media_salario=('salario', 'mean'),\n",
    "    mediana=('salario', 'median'),\n",
    ").round(2)"
   ]
  },
  {
   "cell_type": "code",
   "execution_count": 103,
   "metadata": {},
   "outputs": [
    {
     "data": {
      "text/html": [
       "<div>\n",
       "<style scoped>\n",
       "    .dataframe tbody tr th:only-of-type {\n",
       "        vertical-align: middle;\n",
       "    }\n",
       "\n",
       "    .dataframe tbody tr th {\n",
       "        vertical-align: top;\n",
       "    }\n",
       "\n",
       "    .dataframe thead th {\n",
       "        text-align: right;\n",
       "    }\n",
       "</style>\n",
       "<table border=\"1\" class=\"dataframe\">\n",
       "  <thead>\n",
       "    <tr style=\"text-align: right;\">\n",
       "      <th></th>\n",
       "      <th>região</th>\n",
       "      <th>total</th>\n",
       "      <th>media_salario</th>\n",
       "      <th>maior_salario</th>\n",
       "    </tr>\n",
       "  </thead>\n",
       "  <tbody>\n",
       "    <tr>\n",
       "      <th>0</th>\n",
       "      <td>Centro-Oeste</td>\n",
       "      <td>1181</td>\n",
       "      <td>3158.705182</td>\n",
       "      <td>19780.0</td>\n",
       "    </tr>\n",
       "    <tr>\n",
       "      <th>1</th>\n",
       "      <td>Nordeste</td>\n",
       "      <td>2642</td>\n",
       "      <td>3213.462014</td>\n",
       "      <td>19955.0</td>\n",
       "    </tr>\n",
       "    <tr>\n",
       "      <th>2</th>\n",
       "      <td>Norte</td>\n",
       "      <td>2061</td>\n",
       "      <td>3163.419127</td>\n",
       "      <td>19876.0</td>\n",
       "    </tr>\n",
       "    <tr>\n",
       "      <th>3</th>\n",
       "      <td>Sudeste</td>\n",
       "      <td>1174</td>\n",
       "      <td>3065.751124</td>\n",
       "      <td>19994.0</td>\n",
       "    </tr>\n",
       "    <tr>\n",
       "      <th>4</th>\n",
       "      <td>Sul</td>\n",
       "      <td>876</td>\n",
       "      <td>3353.473744</td>\n",
       "      <td>18899.0</td>\n",
       "    </tr>\n",
       "  </tbody>\n",
       "</table>\n",
       "</div>"
      ],
      "text/plain": [
       "         região  total  media_salario  maior_salario\n",
       "0  Centro-Oeste   1181    3158.705182        19780.0\n",
       "1      Nordeste   2642    3213.462014        19955.0\n",
       "2         Norte   2061    3163.419127        19876.0\n",
       "3       Sudeste   1174    3065.751124        19994.0\n",
       "4           Sul    876    3353.473744        18899.0"
      ]
     },
     "execution_count": 103,
     "metadata": {},
     "output_type": "execute_result"
    }
   ],
   "source": [
    "df.groupby(['região'], as_index=False).agg(\n",
    "    total=('região', 'count'), \n",
    "    media_salario=('salario', 'mean'),\n",
    "    maior_salario=('salario', 'max')\n",
    ")"
   ]
  },
  {
   "cell_type": "code",
   "execution_count": null,
   "metadata": {},
   "outputs": [],
   "source": []
  }
 ],
 "metadata": {
  "kernelspec": {
   "display_name": "MODML",
   "language": "python",
   "name": "modml"
  },
  "language_info": {
   "codemirror_mode": {
    "name": "ipython",
    "version": 3
   },
   "file_extension": ".py",
   "mimetype": "text/x-python",
   "name": "python",
   "nbconvert_exporter": "python",
   "pygments_lexer": "ipython3",
   "version": "3.11.3"
  }
 },
 "nbformat": 4,
 "nbformat_minor": 4
}
